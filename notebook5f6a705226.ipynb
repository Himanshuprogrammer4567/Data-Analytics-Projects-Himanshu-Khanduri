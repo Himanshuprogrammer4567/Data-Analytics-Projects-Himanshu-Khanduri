{
 "cells": [
  {
   "cell_type": "code",
   "execution_count": 1,
   "id": "5c6f905d",
   "metadata": {
    "_cell_guid": "b1076dfc-b9ad-4769-8c92-a6c4dae69d19",
    "_uuid": "8f2839f25d086af736a60e9eeb907d3b93b6e0e5",
    "execution": {
     "iopub.execute_input": "2023-01-20T12:47:44.934701Z",
     "iopub.status.busy": "2023-01-20T12:47:44.933733Z",
     "iopub.status.idle": "2023-01-20T12:47:44.949394Z",
     "shell.execute_reply": "2023-01-20T12:47:44.948182Z"
    },
    "papermill": {
     "duration": 0.034778,
     "end_time": "2023-01-20T12:47:44.951941",
     "exception": false,
     "start_time": "2023-01-20T12:47:44.917163",
     "status": "completed"
    },
    "tags": []
   },
   "outputs": [
    {
     "name": "stdout",
     "output_type": "stream",
     "text": [
      "/kaggle/input/titanic/train.csv\n",
      "/kaggle/input/titanic/test.csv\n",
      "/kaggle/input/titanic/gender_submission.csv\n"
     ]
    }
   ],
   "source": [
    "# This Python 3 environment comes with many helpful analytics libraries installed\n",
    "# It is defined by the kaggle/python Docker image: https://github.com/kaggle/docker-python\n",
    "# For example, here's several helpful packages to load\n",
    "\n",
    "import numpy as np # linear algebra\n",
    "import pandas as pd # data processing, CSV file I/O (e.g. pd.read_csv)\n",
    "\n",
    "# Input data files are available in the read-only \"../input/\" directory\n",
    "# For example, running this (by clicking run or pressing Shift+Enter) will list all files under the input directory\n",
    "\n",
    "import os\n",
    "for dirname, _, filenames in os.walk('/kaggle/input'):\n",
    "    for filename in filenames:\n",
    "        print(os.path.join(dirname, filename))\n",
    "\n",
    "# You can write up to 20GB to the current directory (/kaggle/working/) that gets preserved as output when you create a version using \"Save & Run All\" \n",
    "# You can also write temporary files to /kaggle/temp/, but they won't be saved outside of the current session"
   ]
  },
  {
   "cell_type": "code",
   "execution_count": 2,
   "id": "be2014f8",
   "metadata": {
    "execution": {
     "iopub.execute_input": "2023-01-20T12:47:44.981412Z",
     "iopub.status.busy": "2023-01-20T12:47:44.980993Z",
     "iopub.status.idle": "2023-01-20T12:47:45.011233Z",
     "shell.execute_reply": "2023-01-20T12:47:45.010076Z"
    },
    "papermill": {
     "duration": 0.049151,
     "end_time": "2023-01-20T12:47:45.014033",
     "exception": false,
     "start_time": "2023-01-20T12:47:44.964882",
     "status": "completed"
    },
    "tags": []
   },
   "outputs": [],
   "source": [
    "train_data=pd.read_csv('/kaggle/input/titanic/train.csv')\n",
    "test_data=pd.read_csv('/kaggle/input/titanic/test.csv')\n"
   ]
  },
  {
   "cell_type": "code",
   "execution_count": 3,
   "id": "9a03b154",
   "metadata": {
    "execution": {
     "iopub.execute_input": "2023-01-20T12:47:45.041727Z",
     "iopub.status.busy": "2023-01-20T12:47:45.041263Z",
     "iopub.status.idle": "2023-01-20T12:47:45.072857Z",
     "shell.execute_reply": "2023-01-20T12:47:45.071819Z"
    },
    "papermill": {
     "duration": 0.048273,
     "end_time": "2023-01-20T12:47:45.075679",
     "exception": false,
     "start_time": "2023-01-20T12:47:45.027406",
     "status": "completed"
    },
    "tags": []
   },
   "outputs": [
    {
     "data": {
      "text/html": [
       "<div>\n",
       "<style scoped>\n",
       "    .dataframe tbody tr th:only-of-type {\n",
       "        vertical-align: middle;\n",
       "    }\n",
       "\n",
       "    .dataframe tbody tr th {\n",
       "        vertical-align: top;\n",
       "    }\n",
       "\n",
       "    .dataframe thead th {\n",
       "        text-align: right;\n",
       "    }\n",
       "</style>\n",
       "<table border=\"1\" class=\"dataframe\">\n",
       "  <thead>\n",
       "    <tr style=\"text-align: right;\">\n",
       "      <th></th>\n",
       "      <th>PassengerId</th>\n",
       "      <th>Survived</th>\n",
       "      <th>Pclass</th>\n",
       "      <th>Name</th>\n",
       "      <th>Sex</th>\n",
       "      <th>Age</th>\n",
       "      <th>SibSp</th>\n",
       "      <th>Parch</th>\n",
       "      <th>Ticket</th>\n",
       "      <th>Fare</th>\n",
       "      <th>Cabin</th>\n",
       "      <th>Embarked</th>\n",
       "    </tr>\n",
       "  </thead>\n",
       "  <tbody>\n",
       "    <tr>\n",
       "      <th>0</th>\n",
       "      <td>1</td>\n",
       "      <td>0</td>\n",
       "      <td>3</td>\n",
       "      <td>Braund, Mr. Owen Harris</td>\n",
       "      <td>male</td>\n",
       "      <td>22.0</td>\n",
       "      <td>1</td>\n",
       "      <td>0</td>\n",
       "      <td>A/5 21171</td>\n",
       "      <td>7.2500</td>\n",
       "      <td>NaN</td>\n",
       "      <td>S</td>\n",
       "    </tr>\n",
       "    <tr>\n",
       "      <th>1</th>\n",
       "      <td>2</td>\n",
       "      <td>1</td>\n",
       "      <td>1</td>\n",
       "      <td>Cumings, Mrs. John Bradley (Florence Briggs Th...</td>\n",
       "      <td>female</td>\n",
       "      <td>38.0</td>\n",
       "      <td>1</td>\n",
       "      <td>0</td>\n",
       "      <td>PC 17599</td>\n",
       "      <td>71.2833</td>\n",
       "      <td>C85</td>\n",
       "      <td>C</td>\n",
       "    </tr>\n",
       "    <tr>\n",
       "      <th>2</th>\n",
       "      <td>3</td>\n",
       "      <td>1</td>\n",
       "      <td>3</td>\n",
       "      <td>Heikkinen, Miss. Laina</td>\n",
       "      <td>female</td>\n",
       "      <td>26.0</td>\n",
       "      <td>0</td>\n",
       "      <td>0</td>\n",
       "      <td>STON/O2. 3101282</td>\n",
       "      <td>7.9250</td>\n",
       "      <td>NaN</td>\n",
       "      <td>S</td>\n",
       "    </tr>\n",
       "    <tr>\n",
       "      <th>3</th>\n",
       "      <td>4</td>\n",
       "      <td>1</td>\n",
       "      <td>1</td>\n",
       "      <td>Futrelle, Mrs. Jacques Heath (Lily May Peel)</td>\n",
       "      <td>female</td>\n",
       "      <td>35.0</td>\n",
       "      <td>1</td>\n",
       "      <td>0</td>\n",
       "      <td>113803</td>\n",
       "      <td>53.1000</td>\n",
       "      <td>C123</td>\n",
       "      <td>S</td>\n",
       "    </tr>\n",
       "    <tr>\n",
       "      <th>4</th>\n",
       "      <td>5</td>\n",
       "      <td>0</td>\n",
       "      <td>3</td>\n",
       "      <td>Allen, Mr. William Henry</td>\n",
       "      <td>male</td>\n",
       "      <td>35.0</td>\n",
       "      <td>0</td>\n",
       "      <td>0</td>\n",
       "      <td>373450</td>\n",
       "      <td>8.0500</td>\n",
       "      <td>NaN</td>\n",
       "      <td>S</td>\n",
       "    </tr>\n",
       "    <tr>\n",
       "      <th>...</th>\n",
       "      <td>...</td>\n",
       "      <td>...</td>\n",
       "      <td>...</td>\n",
       "      <td>...</td>\n",
       "      <td>...</td>\n",
       "      <td>...</td>\n",
       "      <td>...</td>\n",
       "      <td>...</td>\n",
       "      <td>...</td>\n",
       "      <td>...</td>\n",
       "      <td>...</td>\n",
       "      <td>...</td>\n",
       "    </tr>\n",
       "    <tr>\n",
       "      <th>886</th>\n",
       "      <td>887</td>\n",
       "      <td>0</td>\n",
       "      <td>2</td>\n",
       "      <td>Montvila, Rev. Juozas</td>\n",
       "      <td>male</td>\n",
       "      <td>27.0</td>\n",
       "      <td>0</td>\n",
       "      <td>0</td>\n",
       "      <td>211536</td>\n",
       "      <td>13.0000</td>\n",
       "      <td>NaN</td>\n",
       "      <td>S</td>\n",
       "    </tr>\n",
       "    <tr>\n",
       "      <th>887</th>\n",
       "      <td>888</td>\n",
       "      <td>1</td>\n",
       "      <td>1</td>\n",
       "      <td>Graham, Miss. Margaret Edith</td>\n",
       "      <td>female</td>\n",
       "      <td>19.0</td>\n",
       "      <td>0</td>\n",
       "      <td>0</td>\n",
       "      <td>112053</td>\n",
       "      <td>30.0000</td>\n",
       "      <td>B42</td>\n",
       "      <td>S</td>\n",
       "    </tr>\n",
       "    <tr>\n",
       "      <th>888</th>\n",
       "      <td>889</td>\n",
       "      <td>0</td>\n",
       "      <td>3</td>\n",
       "      <td>Johnston, Miss. Catherine Helen \"Carrie\"</td>\n",
       "      <td>female</td>\n",
       "      <td>NaN</td>\n",
       "      <td>1</td>\n",
       "      <td>2</td>\n",
       "      <td>W./C. 6607</td>\n",
       "      <td>23.4500</td>\n",
       "      <td>NaN</td>\n",
       "      <td>S</td>\n",
       "    </tr>\n",
       "    <tr>\n",
       "      <th>889</th>\n",
       "      <td>890</td>\n",
       "      <td>1</td>\n",
       "      <td>1</td>\n",
       "      <td>Behr, Mr. Karl Howell</td>\n",
       "      <td>male</td>\n",
       "      <td>26.0</td>\n",
       "      <td>0</td>\n",
       "      <td>0</td>\n",
       "      <td>111369</td>\n",
       "      <td>30.0000</td>\n",
       "      <td>C148</td>\n",
       "      <td>C</td>\n",
       "    </tr>\n",
       "    <tr>\n",
       "      <th>890</th>\n",
       "      <td>891</td>\n",
       "      <td>0</td>\n",
       "      <td>3</td>\n",
       "      <td>Dooley, Mr. Patrick</td>\n",
       "      <td>male</td>\n",
       "      <td>32.0</td>\n",
       "      <td>0</td>\n",
       "      <td>0</td>\n",
       "      <td>370376</td>\n",
       "      <td>7.7500</td>\n",
       "      <td>NaN</td>\n",
       "      <td>Q</td>\n",
       "    </tr>\n",
       "  </tbody>\n",
       "</table>\n",
       "<p>891 rows × 12 columns</p>\n",
       "</div>"
      ],
      "text/plain": [
       "     PassengerId  Survived  Pclass  \\\n",
       "0              1         0       3   \n",
       "1              2         1       1   \n",
       "2              3         1       3   \n",
       "3              4         1       1   \n",
       "4              5         0       3   \n",
       "..           ...       ...     ...   \n",
       "886          887         0       2   \n",
       "887          888         1       1   \n",
       "888          889         0       3   \n",
       "889          890         1       1   \n",
       "890          891         0       3   \n",
       "\n",
       "                                                  Name     Sex   Age  SibSp  \\\n",
       "0                              Braund, Mr. Owen Harris    male  22.0      1   \n",
       "1    Cumings, Mrs. John Bradley (Florence Briggs Th...  female  38.0      1   \n",
       "2                               Heikkinen, Miss. Laina  female  26.0      0   \n",
       "3         Futrelle, Mrs. Jacques Heath (Lily May Peel)  female  35.0      1   \n",
       "4                             Allen, Mr. William Henry    male  35.0      0   \n",
       "..                                                 ...     ...   ...    ...   \n",
       "886                              Montvila, Rev. Juozas    male  27.0      0   \n",
       "887                       Graham, Miss. Margaret Edith  female  19.0      0   \n",
       "888           Johnston, Miss. Catherine Helen \"Carrie\"  female   NaN      1   \n",
       "889                              Behr, Mr. Karl Howell    male  26.0      0   \n",
       "890                                Dooley, Mr. Patrick    male  32.0      0   \n",
       "\n",
       "     Parch            Ticket     Fare Cabin Embarked  \n",
       "0        0         A/5 21171   7.2500   NaN        S  \n",
       "1        0          PC 17599  71.2833   C85        C  \n",
       "2        0  STON/O2. 3101282   7.9250   NaN        S  \n",
       "3        0            113803  53.1000  C123        S  \n",
       "4        0            373450   8.0500   NaN        S  \n",
       "..     ...               ...      ...   ...      ...  \n",
       "886      0            211536  13.0000   NaN        S  \n",
       "887      0            112053  30.0000   B42        S  \n",
       "888      2        W./C. 6607  23.4500   NaN        S  \n",
       "889      0            111369  30.0000  C148        C  \n",
       "890      0            370376   7.7500   NaN        Q  \n",
       "\n",
       "[891 rows x 12 columns]"
      ]
     },
     "execution_count": 3,
     "metadata": {},
     "output_type": "execute_result"
    }
   ],
   "source": [
    "train_data"
   ]
  },
  {
   "cell_type": "code",
   "execution_count": 4,
   "id": "7b8fc04f",
   "metadata": {
    "execution": {
     "iopub.execute_input": "2023-01-20T12:47:45.103784Z",
     "iopub.status.busy": "2023-01-20T12:47:45.103409Z",
     "iopub.status.idle": "2023-01-20T12:47:45.129062Z",
     "shell.execute_reply": "2023-01-20T12:47:45.127886Z"
    },
    "papermill": {
     "duration": 0.042316,
     "end_time": "2023-01-20T12:47:45.131267",
     "exception": false,
     "start_time": "2023-01-20T12:47:45.088951",
     "status": "completed"
    },
    "tags": []
   },
   "outputs": [
    {
     "data": {
      "text/html": [
       "<div>\n",
       "<style scoped>\n",
       "    .dataframe tbody tr th:only-of-type {\n",
       "        vertical-align: middle;\n",
       "    }\n",
       "\n",
       "    .dataframe tbody tr th {\n",
       "        vertical-align: top;\n",
       "    }\n",
       "\n",
       "    .dataframe thead th {\n",
       "        text-align: right;\n",
       "    }\n",
       "</style>\n",
       "<table border=\"1\" class=\"dataframe\">\n",
       "  <thead>\n",
       "    <tr style=\"text-align: right;\">\n",
       "      <th></th>\n",
       "      <th>PassengerId</th>\n",
       "      <th>Survived</th>\n",
       "      <th>Pclass</th>\n",
       "      <th>Name</th>\n",
       "      <th>Sex</th>\n",
       "      <th>Age</th>\n",
       "      <th>SibSp</th>\n",
       "      <th>Parch</th>\n",
       "      <th>Ticket</th>\n",
       "      <th>Fare</th>\n",
       "      <th>Cabin</th>\n",
       "      <th>Embarked</th>\n",
       "    </tr>\n",
       "  </thead>\n",
       "  <tbody>\n",
       "    <tr>\n",
       "      <th>0</th>\n",
       "      <td>False</td>\n",
       "      <td>False</td>\n",
       "      <td>False</td>\n",
       "      <td>False</td>\n",
       "      <td>False</td>\n",
       "      <td>False</td>\n",
       "      <td>False</td>\n",
       "      <td>False</td>\n",
       "      <td>False</td>\n",
       "      <td>False</td>\n",
       "      <td>True</td>\n",
       "      <td>False</td>\n",
       "    </tr>\n",
       "    <tr>\n",
       "      <th>1</th>\n",
       "      <td>False</td>\n",
       "      <td>False</td>\n",
       "      <td>False</td>\n",
       "      <td>False</td>\n",
       "      <td>False</td>\n",
       "      <td>False</td>\n",
       "      <td>False</td>\n",
       "      <td>False</td>\n",
       "      <td>False</td>\n",
       "      <td>False</td>\n",
       "      <td>False</td>\n",
       "      <td>False</td>\n",
       "    </tr>\n",
       "    <tr>\n",
       "      <th>2</th>\n",
       "      <td>False</td>\n",
       "      <td>False</td>\n",
       "      <td>False</td>\n",
       "      <td>False</td>\n",
       "      <td>False</td>\n",
       "      <td>False</td>\n",
       "      <td>False</td>\n",
       "      <td>False</td>\n",
       "      <td>False</td>\n",
       "      <td>False</td>\n",
       "      <td>True</td>\n",
       "      <td>False</td>\n",
       "    </tr>\n",
       "    <tr>\n",
       "      <th>3</th>\n",
       "      <td>False</td>\n",
       "      <td>False</td>\n",
       "      <td>False</td>\n",
       "      <td>False</td>\n",
       "      <td>False</td>\n",
       "      <td>False</td>\n",
       "      <td>False</td>\n",
       "      <td>False</td>\n",
       "      <td>False</td>\n",
       "      <td>False</td>\n",
       "      <td>False</td>\n",
       "      <td>False</td>\n",
       "    </tr>\n",
       "    <tr>\n",
       "      <th>4</th>\n",
       "      <td>False</td>\n",
       "      <td>False</td>\n",
       "      <td>False</td>\n",
       "      <td>False</td>\n",
       "      <td>False</td>\n",
       "      <td>False</td>\n",
       "      <td>False</td>\n",
       "      <td>False</td>\n",
       "      <td>False</td>\n",
       "      <td>False</td>\n",
       "      <td>True</td>\n",
       "      <td>False</td>\n",
       "    </tr>\n",
       "    <tr>\n",
       "      <th>...</th>\n",
       "      <td>...</td>\n",
       "      <td>...</td>\n",
       "      <td>...</td>\n",
       "      <td>...</td>\n",
       "      <td>...</td>\n",
       "      <td>...</td>\n",
       "      <td>...</td>\n",
       "      <td>...</td>\n",
       "      <td>...</td>\n",
       "      <td>...</td>\n",
       "      <td>...</td>\n",
       "      <td>...</td>\n",
       "    </tr>\n",
       "    <tr>\n",
       "      <th>886</th>\n",
       "      <td>False</td>\n",
       "      <td>False</td>\n",
       "      <td>False</td>\n",
       "      <td>False</td>\n",
       "      <td>False</td>\n",
       "      <td>False</td>\n",
       "      <td>False</td>\n",
       "      <td>False</td>\n",
       "      <td>False</td>\n",
       "      <td>False</td>\n",
       "      <td>True</td>\n",
       "      <td>False</td>\n",
       "    </tr>\n",
       "    <tr>\n",
       "      <th>887</th>\n",
       "      <td>False</td>\n",
       "      <td>False</td>\n",
       "      <td>False</td>\n",
       "      <td>False</td>\n",
       "      <td>False</td>\n",
       "      <td>False</td>\n",
       "      <td>False</td>\n",
       "      <td>False</td>\n",
       "      <td>False</td>\n",
       "      <td>False</td>\n",
       "      <td>False</td>\n",
       "      <td>False</td>\n",
       "    </tr>\n",
       "    <tr>\n",
       "      <th>888</th>\n",
       "      <td>False</td>\n",
       "      <td>False</td>\n",
       "      <td>False</td>\n",
       "      <td>False</td>\n",
       "      <td>False</td>\n",
       "      <td>True</td>\n",
       "      <td>False</td>\n",
       "      <td>False</td>\n",
       "      <td>False</td>\n",
       "      <td>False</td>\n",
       "      <td>True</td>\n",
       "      <td>False</td>\n",
       "    </tr>\n",
       "    <tr>\n",
       "      <th>889</th>\n",
       "      <td>False</td>\n",
       "      <td>False</td>\n",
       "      <td>False</td>\n",
       "      <td>False</td>\n",
       "      <td>False</td>\n",
       "      <td>False</td>\n",
       "      <td>False</td>\n",
       "      <td>False</td>\n",
       "      <td>False</td>\n",
       "      <td>False</td>\n",
       "      <td>False</td>\n",
       "      <td>False</td>\n",
       "    </tr>\n",
       "    <tr>\n",
       "      <th>890</th>\n",
       "      <td>False</td>\n",
       "      <td>False</td>\n",
       "      <td>False</td>\n",
       "      <td>False</td>\n",
       "      <td>False</td>\n",
       "      <td>False</td>\n",
       "      <td>False</td>\n",
       "      <td>False</td>\n",
       "      <td>False</td>\n",
       "      <td>False</td>\n",
       "      <td>True</td>\n",
       "      <td>False</td>\n",
       "    </tr>\n",
       "  </tbody>\n",
       "</table>\n",
       "<p>891 rows × 12 columns</p>\n",
       "</div>"
      ],
      "text/plain": [
       "     PassengerId  Survived  Pclass   Name    Sex    Age  SibSp  Parch  Ticket  \\\n",
       "0          False     False   False  False  False  False  False  False   False   \n",
       "1          False     False   False  False  False  False  False  False   False   \n",
       "2          False     False   False  False  False  False  False  False   False   \n",
       "3          False     False   False  False  False  False  False  False   False   \n",
       "4          False     False   False  False  False  False  False  False   False   \n",
       "..           ...       ...     ...    ...    ...    ...    ...    ...     ...   \n",
       "886        False     False   False  False  False  False  False  False   False   \n",
       "887        False     False   False  False  False  False  False  False   False   \n",
       "888        False     False   False  False  False   True  False  False   False   \n",
       "889        False     False   False  False  False  False  False  False   False   \n",
       "890        False     False   False  False  False  False  False  False   False   \n",
       "\n",
       "      Fare  Cabin  Embarked  \n",
       "0    False   True     False  \n",
       "1    False  False     False  \n",
       "2    False   True     False  \n",
       "3    False  False     False  \n",
       "4    False   True     False  \n",
       "..     ...    ...       ...  \n",
       "886  False   True     False  \n",
       "887  False  False     False  \n",
       "888  False   True     False  \n",
       "889  False  False     False  \n",
       "890  False   True     False  \n",
       "\n",
       "[891 rows x 12 columns]"
      ]
     },
     "execution_count": 4,
     "metadata": {},
     "output_type": "execute_result"
    }
   ],
   "source": [
    "train_data.isnull()"
   ]
  },
  {
   "cell_type": "code",
   "execution_count": 5,
   "id": "e7d84571",
   "metadata": {
    "execution": {
     "iopub.execute_input": "2023-01-20T12:47:45.160850Z",
     "iopub.status.busy": "2023-01-20T12:47:45.160437Z",
     "iopub.status.idle": "2023-01-20T12:47:45.183359Z",
     "shell.execute_reply": "2023-01-20T12:47:45.182302Z"
    },
    "papermill": {
     "duration": 0.040147,
     "end_time": "2023-01-20T12:47:45.185634",
     "exception": false,
     "start_time": "2023-01-20T12:47:45.145487",
     "status": "completed"
    },
    "tags": []
   },
   "outputs": [
    {
     "data": {
      "text/html": [
       "<div>\n",
       "<style scoped>\n",
       "    .dataframe tbody tr th:only-of-type {\n",
       "        vertical-align: middle;\n",
       "    }\n",
       "\n",
       "    .dataframe tbody tr th {\n",
       "        vertical-align: top;\n",
       "    }\n",
       "\n",
       "    .dataframe thead th {\n",
       "        text-align: right;\n",
       "    }\n",
       "</style>\n",
       "<table border=\"1\" class=\"dataframe\">\n",
       "  <thead>\n",
       "    <tr style=\"text-align: right;\">\n",
       "      <th></th>\n",
       "      <th>PassengerId</th>\n",
       "      <th>Survived</th>\n",
       "      <th>Pclass</th>\n",
       "      <th>Name</th>\n",
       "      <th>Sex</th>\n",
       "      <th>Age</th>\n",
       "      <th>SibSp</th>\n",
       "      <th>Parch</th>\n",
       "      <th>Ticket</th>\n",
       "      <th>Fare</th>\n",
       "      <th>Cabin</th>\n",
       "      <th>Embarked</th>\n",
       "    </tr>\n",
       "  </thead>\n",
       "  <tbody>\n",
       "    <tr>\n",
       "      <th>0</th>\n",
       "      <td>True</td>\n",
       "      <td>True</td>\n",
       "      <td>True</td>\n",
       "      <td>True</td>\n",
       "      <td>True</td>\n",
       "      <td>True</td>\n",
       "      <td>True</td>\n",
       "      <td>True</td>\n",
       "      <td>True</td>\n",
       "      <td>True</td>\n",
       "      <td>False</td>\n",
       "      <td>True</td>\n",
       "    </tr>\n",
       "    <tr>\n",
       "      <th>1</th>\n",
       "      <td>True</td>\n",
       "      <td>True</td>\n",
       "      <td>True</td>\n",
       "      <td>True</td>\n",
       "      <td>True</td>\n",
       "      <td>True</td>\n",
       "      <td>True</td>\n",
       "      <td>True</td>\n",
       "      <td>True</td>\n",
       "      <td>True</td>\n",
       "      <td>True</td>\n",
       "      <td>True</td>\n",
       "    </tr>\n",
       "    <tr>\n",
       "      <th>2</th>\n",
       "      <td>True</td>\n",
       "      <td>True</td>\n",
       "      <td>True</td>\n",
       "      <td>True</td>\n",
       "      <td>True</td>\n",
       "      <td>True</td>\n",
       "      <td>True</td>\n",
       "      <td>True</td>\n",
       "      <td>True</td>\n",
       "      <td>True</td>\n",
       "      <td>False</td>\n",
       "      <td>True</td>\n",
       "    </tr>\n",
       "    <tr>\n",
       "      <th>3</th>\n",
       "      <td>True</td>\n",
       "      <td>True</td>\n",
       "      <td>True</td>\n",
       "      <td>True</td>\n",
       "      <td>True</td>\n",
       "      <td>True</td>\n",
       "      <td>True</td>\n",
       "      <td>True</td>\n",
       "      <td>True</td>\n",
       "      <td>True</td>\n",
       "      <td>True</td>\n",
       "      <td>True</td>\n",
       "    </tr>\n",
       "    <tr>\n",
       "      <th>4</th>\n",
       "      <td>True</td>\n",
       "      <td>True</td>\n",
       "      <td>True</td>\n",
       "      <td>True</td>\n",
       "      <td>True</td>\n",
       "      <td>True</td>\n",
       "      <td>True</td>\n",
       "      <td>True</td>\n",
       "      <td>True</td>\n",
       "      <td>True</td>\n",
       "      <td>False</td>\n",
       "      <td>True</td>\n",
       "    </tr>\n",
       "    <tr>\n",
       "      <th>...</th>\n",
       "      <td>...</td>\n",
       "      <td>...</td>\n",
       "      <td>...</td>\n",
       "      <td>...</td>\n",
       "      <td>...</td>\n",
       "      <td>...</td>\n",
       "      <td>...</td>\n",
       "      <td>...</td>\n",
       "      <td>...</td>\n",
       "      <td>...</td>\n",
       "      <td>...</td>\n",
       "      <td>...</td>\n",
       "    </tr>\n",
       "    <tr>\n",
       "      <th>886</th>\n",
       "      <td>True</td>\n",
       "      <td>True</td>\n",
       "      <td>True</td>\n",
       "      <td>True</td>\n",
       "      <td>True</td>\n",
       "      <td>True</td>\n",
       "      <td>True</td>\n",
       "      <td>True</td>\n",
       "      <td>True</td>\n",
       "      <td>True</td>\n",
       "      <td>False</td>\n",
       "      <td>True</td>\n",
       "    </tr>\n",
       "    <tr>\n",
       "      <th>887</th>\n",
       "      <td>True</td>\n",
       "      <td>True</td>\n",
       "      <td>True</td>\n",
       "      <td>True</td>\n",
       "      <td>True</td>\n",
       "      <td>True</td>\n",
       "      <td>True</td>\n",
       "      <td>True</td>\n",
       "      <td>True</td>\n",
       "      <td>True</td>\n",
       "      <td>True</td>\n",
       "      <td>True</td>\n",
       "    </tr>\n",
       "    <tr>\n",
       "      <th>888</th>\n",
       "      <td>True</td>\n",
       "      <td>True</td>\n",
       "      <td>True</td>\n",
       "      <td>True</td>\n",
       "      <td>True</td>\n",
       "      <td>False</td>\n",
       "      <td>True</td>\n",
       "      <td>True</td>\n",
       "      <td>True</td>\n",
       "      <td>True</td>\n",
       "      <td>False</td>\n",
       "      <td>True</td>\n",
       "    </tr>\n",
       "    <tr>\n",
       "      <th>889</th>\n",
       "      <td>True</td>\n",
       "      <td>True</td>\n",
       "      <td>True</td>\n",
       "      <td>True</td>\n",
       "      <td>True</td>\n",
       "      <td>True</td>\n",
       "      <td>True</td>\n",
       "      <td>True</td>\n",
       "      <td>True</td>\n",
       "      <td>True</td>\n",
       "      <td>True</td>\n",
       "      <td>True</td>\n",
       "    </tr>\n",
       "    <tr>\n",
       "      <th>890</th>\n",
       "      <td>True</td>\n",
       "      <td>True</td>\n",
       "      <td>True</td>\n",
       "      <td>True</td>\n",
       "      <td>True</td>\n",
       "      <td>True</td>\n",
       "      <td>True</td>\n",
       "      <td>True</td>\n",
       "      <td>True</td>\n",
       "      <td>True</td>\n",
       "      <td>False</td>\n",
       "      <td>True</td>\n",
       "    </tr>\n",
       "  </tbody>\n",
       "</table>\n",
       "<p>891 rows × 12 columns</p>\n",
       "</div>"
      ],
      "text/plain": [
       "     PassengerId  Survived  Pclass  Name   Sex    Age  SibSp  Parch  Ticket  \\\n",
       "0           True      True    True  True  True   True   True   True    True   \n",
       "1           True      True    True  True  True   True   True   True    True   \n",
       "2           True      True    True  True  True   True   True   True    True   \n",
       "3           True      True    True  True  True   True   True   True    True   \n",
       "4           True      True    True  True  True   True   True   True    True   \n",
       "..           ...       ...     ...   ...   ...    ...    ...    ...     ...   \n",
       "886         True      True    True  True  True   True   True   True    True   \n",
       "887         True      True    True  True  True   True   True   True    True   \n",
       "888         True      True    True  True  True  False   True   True    True   \n",
       "889         True      True    True  True  True   True   True   True    True   \n",
       "890         True      True    True  True  True   True   True   True    True   \n",
       "\n",
       "     Fare  Cabin  Embarked  \n",
       "0    True  False      True  \n",
       "1    True   True      True  \n",
       "2    True  False      True  \n",
       "3    True   True      True  \n",
       "4    True  False      True  \n",
       "..    ...    ...       ...  \n",
       "886  True  False      True  \n",
       "887  True   True      True  \n",
       "888  True  False      True  \n",
       "889  True   True      True  \n",
       "890  True  False      True  \n",
       "\n",
       "[891 rows x 12 columns]"
      ]
     },
     "execution_count": 5,
     "metadata": {},
     "output_type": "execute_result"
    }
   ],
   "source": [
    "train_data.notnull()"
   ]
  },
  {
   "cell_type": "code",
   "execution_count": 6,
   "id": "b8b2c2c3",
   "metadata": {
    "execution": {
     "iopub.execute_input": "2023-01-20T12:47:45.216061Z",
     "iopub.status.busy": "2023-01-20T12:47:45.215062Z",
     "iopub.status.idle": "2023-01-20T12:47:45.224125Z",
     "shell.execute_reply": "2023-01-20T12:47:45.223399Z"
    },
    "papermill": {
     "duration": 0.026222,
     "end_time": "2023-01-20T12:47:45.226042",
     "exception": false,
     "start_time": "2023-01-20T12:47:45.199820",
     "status": "completed"
    },
    "tags": []
   },
   "outputs": [
    {
     "data": {
      "text/plain": [
       "PassengerId      0\n",
       "Survived         0\n",
       "Pclass           0\n",
       "Name             0\n",
       "Sex              0\n",
       "Age            177\n",
       "SibSp            0\n",
       "Parch            0\n",
       "Ticket           0\n",
       "Fare             0\n",
       "Cabin          687\n",
       "Embarked         2\n",
       "dtype: int64"
      ]
     },
     "execution_count": 6,
     "metadata": {},
     "output_type": "execute_result"
    }
   ],
   "source": [
    "train_data.isna().sum()"
   ]
  },
  {
   "cell_type": "code",
   "execution_count": 7,
   "id": "82ac081a",
   "metadata": {
    "execution": {
     "iopub.execute_input": "2023-01-20T12:47:45.256446Z",
     "iopub.status.busy": "2023-01-20T12:47:45.255778Z",
     "iopub.status.idle": "2023-01-20T12:47:45.264644Z",
     "shell.execute_reply": "2023-01-20T12:47:45.263682Z"
    },
    "papermill": {
     "duration": 0.026703,
     "end_time": "2023-01-20T12:47:45.267081",
     "exception": false,
     "start_time": "2023-01-20T12:47:45.240378",
     "status": "completed"
    },
    "tags": []
   },
   "outputs": [
    {
     "data": {
      "text/plain": [
       "PassengerId    891\n",
       "Survived       891\n",
       "Pclass         891\n",
       "Name           891\n",
       "Sex            891\n",
       "Age            714\n",
       "SibSp          891\n",
       "Parch          891\n",
       "Ticket         891\n",
       "Fare           891\n",
       "Cabin          204\n",
       "Embarked       889\n",
       "dtype: int64"
      ]
     },
     "execution_count": 7,
     "metadata": {},
     "output_type": "execute_result"
    }
   ],
   "source": [
    "train_data.notna().sum()"
   ]
  },
  {
   "cell_type": "code",
   "execution_count": 8,
   "id": "d8f210a4",
   "metadata": {
    "execution": {
     "iopub.execute_input": "2023-01-20T12:47:45.297634Z",
     "iopub.status.busy": "2023-01-20T12:47:45.297238Z",
     "iopub.status.idle": "2023-01-20T12:47:46.715336Z",
     "shell.execute_reply": "2023-01-20T12:47:46.714422Z"
    },
    "papermill": {
     "duration": 1.43618,
     "end_time": "2023-01-20T12:47:46.717718",
     "exception": false,
     "start_time": "2023-01-20T12:47:45.281538",
     "status": "completed"
    },
    "tags": []
   },
   "outputs": [
    {
     "data": {
      "text/plain": [
       "<AxesSubplot:>"
      ]
     },
     "execution_count": 8,
     "metadata": {},
     "output_type": "execute_result"
    },
    {
     "data": {
      "image/png": "[encoded data removed]",
      "text/plain": [
       "<Figure size 432x288 with 2 Axes>"
      ]
     },
     "metadata": {
      "needs_background": "light"
     },
     "output_type": "display_data"
    }
   ],
   "source": [
    "import seaborn as sns\n",
    "sns.heatmap(train_data.isna())"
   ]
  },
  {
   "cell_type": "code",
   "execution_count": 9,
   "id": "0925dd73",
   "metadata": {
    "execution": {
     "iopub.execute_input": "2023-01-20T12:47:46.748752Z",
     "iopub.status.busy": "2023-01-20T12:47:46.748366Z",
     "iopub.status.idle": "2023-01-20T12:47:47.120490Z",
     "shell.execute_reply": "2023-01-20T12:47:47.119299Z"
    },
    "papermill": {
     "duration": 0.390497,
     "end_time": "2023-01-20T12:47:47.122954",
     "exception": false,
     "start_time": "2023-01-20T12:47:46.732457",
     "status": "completed"
    },
    "tags": []
   },
   "outputs": [
    {
     "data": {
      "text/plain": [
       "<AxesSubplot:>"
      ]
     },
     "execution_count": 9,
     "metadata": {},
     "output_type": "execute_result"
    },
    {
     "data": {
      "image/png": "[encoded data removed]",
      "text/plain": [
       "<Figure size 432x288 with 2 Axes>"
      ]
     },
     "metadata": {
      "needs_background": "light"
     },
     "output_type": "display_data"
    }
   ],
   "source": [
    "sns.heatmap(train_data.notna())"
   ]
  },
  {
   "cell_type": "code",
   "execution_count": 10,
   "id": "1a4493bd",
   "metadata": {
    "execution": {
     "iopub.execute_input": "2023-01-20T12:47:47.155495Z",
     "iopub.status.busy": "2023-01-20T12:47:47.155049Z",
     "iopub.status.idle": "2023-01-20T12:47:47.181275Z",
     "shell.execute_reply": "2023-01-20T12:47:47.179719Z"
    },
    "papermill": {
     "duration": 0.045246,
     "end_time": "2023-01-20T12:47:47.183673",
     "exception": false,
     "start_time": "2023-01-20T12:47:47.138427",
     "status": "completed"
    },
    "tags": []
   },
   "outputs": [
    {
     "name": "stdout",
     "output_type": "stream",
     "text": [
      "<class 'pandas.core.frame.DataFrame'>\n",
      "RangeIndex: 891 entries, 0 to 890\n",
      "Data columns (total 12 columns):\n",
      " #   Column       Non-Null Count  Dtype  \n",
      "---  ------       --------------  -----  \n",
      " 0   PassengerId  891 non-null    int64  \n",
      " 1   Survived     891 non-null    int64  \n",
      " 2   Pclass       891 non-null    int64  \n",
      " 3   Name         891 non-null    object \n",
      " 4   Sex          891 non-null    object \n",
      " 5   Age          714 non-null    float64\n",
      " 6   SibSp        891 non-null    int64  \n",
      " 7   Parch        891 non-null    int64  \n",
      " 8   Ticket       891 non-null    object \n",
      " 9   Fare         891 non-null    float64\n",
      " 10  Cabin        204 non-null    object \n",
      " 11  Embarked     889 non-null    object \n",
      "dtypes: float64(2), int64(5), object(5)\n",
      "memory usage: 83.7+ KB\n"
     ]
    }
   ],
   "source": [
    "train_data.info()"
   ]
  },
  {
   "cell_type": "code",
   "execution_count": 11,
   "id": "9bf43cfd",
   "metadata": {
    "execution": {
     "iopub.execute_input": "2023-01-20T12:47:47.216474Z",
     "iopub.status.busy": "2023-01-20T12:47:47.215558Z",
     "iopub.status.idle": "2023-01-20T12:47:47.246418Z",
     "shell.execute_reply": "2023-01-20T12:47:47.245636Z"
    },
    "papermill": {
     "duration": 0.049596,
     "end_time": "2023-01-20T12:47:47.248682",
     "exception": false,
     "start_time": "2023-01-20T12:47:47.199086",
     "status": "completed"
    },
    "tags": []
   },
   "outputs": [
    {
     "data": {
      "text/html": [
       "<div>\n",
       "<style scoped>\n",
       "    .dataframe tbody tr th:only-of-type {\n",
       "        vertical-align: middle;\n",
       "    }\n",
       "\n",
       "    .dataframe tbody tr th {\n",
       "        vertical-align: top;\n",
       "    }\n",
       "\n",
       "    .dataframe thead th {\n",
       "        text-align: right;\n",
       "    }\n",
       "</style>\n",
       "<table border=\"1\" class=\"dataframe\">\n",
       "  <thead>\n",
       "    <tr style=\"text-align: right;\">\n",
       "      <th></th>\n",
       "      <th>PassengerId</th>\n",
       "      <th>Survived</th>\n",
       "      <th>Pclass</th>\n",
       "      <th>Age</th>\n",
       "      <th>SibSp</th>\n",
       "      <th>Parch</th>\n",
       "      <th>Fare</th>\n",
       "    </tr>\n",
       "  </thead>\n",
       "  <tbody>\n",
       "    <tr>\n",
       "      <th>count</th>\n",
       "      <td>891.000000</td>\n",
       "      <td>891.000000</td>\n",
       "      <td>891.000000</td>\n",
       "      <td>714.000000</td>\n",
       "      <td>891.000000</td>\n",
       "      <td>891.000000</td>\n",
       "      <td>891.000000</td>\n",
       "    </tr>\n",
       "    <tr>\n",
       "      <th>mean</th>\n",
       "      <td>446.000000</td>\n",
       "      <td>0.383838</td>\n",
       "      <td>2.308642</td>\n",
       "      <td>29.699118</td>\n",
       "      <td>0.523008</td>\n",
       "      <td>0.381594</td>\n",
       "      <td>32.204208</td>\n",
       "    </tr>\n",
       "    <tr>\n",
       "      <th>std</th>\n",
       "      <td>257.353842</td>\n",
       "      <td>0.486592</td>\n",
       "      <td>0.836071</td>\n",
       "      <td>14.526497</td>\n",
       "      <td>1.102743</td>\n",
       "      <td>0.806057</td>\n",
       "      <td>49.693429</td>\n",
       "    </tr>\n",
       "    <tr>\n",
       "      <th>min</th>\n",
       "      <td>1.000000</td>\n",
       "      <td>0.000000</td>\n",
       "      <td>1.000000</td>\n",
       "      <td>0.420000</td>\n",
       "      <td>0.000000</td>\n",
       "      <td>0.000000</td>\n",
       "      <td>0.000000</td>\n",
       "    </tr>\n",
       "    <tr>\n",
       "      <th>25%</th>\n",
       "      <td>223.500000</td>\n",
       "      <td>0.000000</td>\n",
       "      <td>2.000000</td>\n",
       "      <td>20.125000</td>\n",
       "      <td>0.000000</td>\n",
       "      <td>0.000000</td>\n",
       "      <td>7.910400</td>\n",
       "    </tr>\n",
       "    <tr>\n",
       "      <th>50%</th>\n",
       "      <td>446.000000</td>\n",
       "      <td>0.000000</td>\n",
       "      <td>3.000000</td>\n",
       "      <td>28.000000</td>\n",
       "      <td>0.000000</td>\n",
       "      <td>0.000000</td>\n",
       "      <td>14.454200</td>\n",
       "    </tr>\n",
       "    <tr>\n",
       "      <th>75%</th>\n",
       "      <td>668.500000</td>\n",
       "      <td>1.000000</td>\n",
       "      <td>3.000000</td>\n",
       "      <td>38.000000</td>\n",
       "      <td>1.000000</td>\n",
       "      <td>0.000000</td>\n",
       "      <td>31.000000</td>\n",
       "    </tr>\n",
       "    <tr>\n",
       "      <th>max</th>\n",
       "      <td>891.000000</td>\n",
       "      <td>1.000000</td>\n",
       "      <td>3.000000</td>\n",
       "      <td>80.000000</td>\n",
       "      <td>8.000000</td>\n",
       "      <td>6.000000</td>\n",
       "      <td>512.329200</td>\n",
       "    </tr>\n",
       "  </tbody>\n",
       "</table>\n",
       "</div>"
      ],
      "text/plain": [
       "       PassengerId    Survived      Pclass         Age       SibSp  \\\n",
       "count   891.000000  891.000000  891.000000  714.000000  891.000000   \n",
       "mean    446.000000    0.383838    2.308642   29.699118    0.523008   \n",
       "std     257.353842    0.486592    0.836071   14.526497    1.102743   \n",
       "min       1.000000    0.000000    1.000000    0.420000    0.000000   \n",
       "25%     223.500000    0.000000    2.000000   20.125000    0.000000   \n",
       "50%     446.000000    0.000000    3.000000   28.000000    0.000000   \n",
       "75%     668.500000    1.000000    3.000000   38.000000    1.000000   \n",
       "max     891.000000    1.000000    3.000000   80.000000    8.000000   \n",
       "\n",
       "            Parch        Fare  \n",
       "count  891.000000  891.000000  \n",
       "mean     0.381594   32.204208  \n",
       "std      0.806057   49.693429  \n",
       "min      0.000000    0.000000  \n",
       "25%      0.000000    7.910400  \n",
       "50%      0.000000   14.454200  \n",
       "75%      0.000000   31.000000  \n",
       "max      6.000000  512.329200  "
      ]
     },
     "execution_count": 11,
     "metadata": {},
     "output_type": "execute_result"
    }
   ],
   "source": [
    "train_data.describe()"
   ]
  },
  {
   "cell_type": "code",
   "execution_count": 12,
   "id": "c821a887",
   "metadata": {
    "execution": {
     "iopub.execute_input": "2023-01-20T12:47:47.281633Z",
     "iopub.status.busy": "2023-01-20T12:47:47.280873Z",
     "iopub.status.idle": "2023-01-20T12:47:47.287827Z",
     "shell.execute_reply": "2023-01-20T12:47:47.286695Z"
    },
    "papermill": {
     "duration": 0.025842,
     "end_time": "2023-01-20T12:47:47.289953",
     "exception": false,
     "start_time": "2023-01-20T12:47:47.264111",
     "status": "completed"
    },
    "tags": []
   },
   "outputs": [
    {
     "data": {
      "text/plain": [
       "Index(['PassengerId', 'Survived', 'Pclass', 'Name', 'Sex', 'Age', 'SibSp',\n",
       "       'Parch', 'Ticket', 'Fare', 'Cabin', 'Embarked'],\n",
       "      dtype='object')"
      ]
     },
     "execution_count": 12,
     "metadata": {},
     "output_type": "execute_result"
    }
   ],
   "source": [
    "train_data.columns"
   ]
  },
  {
   "cell_type": "code",
   "execution_count": 13,
   "id": "2008bc67",
   "metadata": {
    "execution": {
     "iopub.execute_input": "2023-01-20T12:47:47.323150Z",
     "iopub.status.busy": "2023-01-20T12:47:47.322759Z",
     "iopub.status.idle": "2023-01-20T12:47:47.346986Z",
     "shell.execute_reply": "2023-01-20T12:47:47.345761Z"
    },
    "papermill": {
     "duration": 0.043738,
     "end_time": "2023-01-20T12:47:47.349224",
     "exception": false,
     "start_time": "2023-01-20T12:47:47.305486",
     "status": "completed"
    },
    "tags": []
   },
   "outputs": [
    {
     "data": {
      "text/plain": [
       "Index(['PassengerId', 'Survived', 'Pclass', 'Age', 'SibSp', 'Parch', 'Fare'], dtype='object')"
      ]
     },
     "execution_count": 13,
     "metadata": {},
     "output_type": "execute_result"
    }
   ],
   "source": [
    "train_data.describe().columns"
   ]
  },
  {
   "cell_type": "code",
   "execution_count": 14,
   "id": "18a5d4c1",
   "metadata": {
    "execution": {
     "iopub.execute_input": "2023-01-20T12:47:47.382486Z",
     "iopub.status.busy": "2023-01-20T12:47:47.381666Z",
     "iopub.status.idle": "2023-01-20T12:47:47.389863Z",
     "shell.execute_reply": "2023-01-20T12:47:47.389003Z"
    },
    "papermill": {
     "duration": 0.027388,
     "end_time": "2023-01-20T12:47:47.392072",
     "exception": false,
     "start_time": "2023-01-20T12:47:47.364684",
     "status": "completed"
    },
    "tags": []
   },
   "outputs": [
    {
     "data": {
      "text/plain": [
       "3    491\n",
       "1    216\n",
       "2    184\n",
       "Name: Pclass, dtype: int64"
      ]
     },
     "execution_count": 14,
     "metadata": {},
     "output_type": "execute_result"
    }
   ],
   "source": [
    "train_data['Pclass'].value_counts()"
   ]
  },
  {
   "cell_type": "code",
   "execution_count": 15,
   "id": "633aad9d",
   "metadata": {
    "execution": {
     "iopub.execute_input": "2023-01-20T12:47:47.425693Z",
     "iopub.status.busy": "2023-01-20T12:47:47.424899Z",
     "iopub.status.idle": "2023-01-20T12:47:47.431786Z",
     "shell.execute_reply": "2023-01-20T12:47:47.431038Z"
    },
    "papermill": {
     "duration": 0.02618,
     "end_time": "2023-01-20T12:47:47.433990",
     "exception": false,
     "start_time": "2023-01-20T12:47:47.407810",
     "status": "completed"
    },
    "tags": []
   },
   "outputs": [],
   "source": [
    "df_num=train_data[['Age','SibSp','Parch','Fare']]\n",
    "df_cat=train_data[['Survived','Pclass','Sex','Ticket','Cabin','Embarked']]"
   ]
  },
  {
   "cell_type": "code",
   "execution_count": 16,
   "id": "299f6b90",
   "metadata": {
    "execution": {
     "iopub.execute_input": "2023-01-20T12:47:47.467144Z",
     "iopub.status.busy": "2023-01-20T12:47:47.466514Z",
     "iopub.status.idle": "2023-01-20T12:47:48.241334Z",
     "shell.execute_reply": "2023-01-20T12:47:48.240220Z"
    },
    "papermill": {
     "duration": 0.794111,
     "end_time": "2023-01-20T12:47:48.243682",
     "exception": false,
     "start_time": "2023-01-20T12:47:47.449571",
     "status": "completed"
    },
    "tags": []
   },
   "outputs": [
    {
     "data": {
      "image/png": "[encoded data removed]",
      "text/plain": [
       "<Figure size 432x288 with 1 Axes>"
      ]
     },
     "metadata": {
      "needs_background": "light"
     },
     "output_type": "display_data"
    },
    {
     "data": {
      "image/png": "[encoded data removed]",
      "text/plain": [
       "<Figure size 432x288 with 1 Axes>"
      ]
     },
     "metadata": {
      "needs_background": "light"
     },
     "output_type": "display_data"
    },
    {
     "data": {
      "image/png": "[encoded data removed]",
      "text/plain": [
       "<Figure size 432x288 with 1 Axes>"
      ]
     },
     "metadata": {
      "needs_background": "light"
     },
     "output_type": "display_data"
    },
    {
     "data": {
      "image/png": "[encoded data removed]",
      "text/plain": [
       "<Figure size 432x288 with 1 Axes>"
      ]
     },
     "metadata": {
      "needs_background": "light"
     },
     "output_type": "display_data"
    }
   ],
   "source": [
    "import matplotlib.pyplot as plt\n",
    "for i in df_num.columns:\n",
    "    plt.hist(df_num[i])\n",
    "    plt.title(i)\n",
    "    plt.show()\n",
    "    "
   ]
  },
  {
   "cell_type": "code",
   "execution_count": 17,
   "id": "126ef355",
   "metadata": {
    "execution": {
     "iopub.execute_input": "2023-01-20T12:47:48.278754Z",
     "iopub.status.busy": "2023-01-20T12:47:48.277962Z",
     "iopub.status.idle": "2023-01-20T12:47:48.290424Z",
     "shell.execute_reply": "2023-01-20T12:47:48.289495Z"
    },
    "papermill": {
     "duration": 0.032569,
     "end_time": "2023-01-20T12:47:48.292743",
     "exception": false,
     "start_time": "2023-01-20T12:47:48.260174",
     "status": "completed"
    },
    "tags": []
   },
   "outputs": [
    {
     "data": {
      "text/html": [
       "<div>\n",
       "<style scoped>\n",
       "    .dataframe tbody tr th:only-of-type {\n",
       "        vertical-align: middle;\n",
       "    }\n",
       "\n",
       "    .dataframe tbody tr th {\n",
       "        vertical-align: top;\n",
       "    }\n",
       "\n",
       "    .dataframe thead th {\n",
       "        text-align: right;\n",
       "    }\n",
       "</style>\n",
       "<table border=\"1\" class=\"dataframe\">\n",
       "  <thead>\n",
       "    <tr style=\"text-align: right;\">\n",
       "      <th></th>\n",
       "      <th>Age</th>\n",
       "      <th>SibSp</th>\n",
       "      <th>Parch</th>\n",
       "      <th>Fare</th>\n",
       "    </tr>\n",
       "  </thead>\n",
       "  <tbody>\n",
       "    <tr>\n",
       "      <th>Age</th>\n",
       "      <td>1.000000</td>\n",
       "      <td>-0.308247</td>\n",
       "      <td>-0.189119</td>\n",
       "      <td>0.096067</td>\n",
       "    </tr>\n",
       "    <tr>\n",
       "      <th>SibSp</th>\n",
       "      <td>-0.308247</td>\n",
       "      <td>1.000000</td>\n",
       "      <td>0.414838</td>\n",
       "      <td>0.159651</td>\n",
       "    </tr>\n",
       "    <tr>\n",
       "      <th>Parch</th>\n",
       "      <td>-0.189119</td>\n",
       "      <td>0.414838</td>\n",
       "      <td>1.000000</td>\n",
       "      <td>0.216225</td>\n",
       "    </tr>\n",
       "    <tr>\n",
       "      <th>Fare</th>\n",
       "      <td>0.096067</td>\n",
       "      <td>0.159651</td>\n",
       "      <td>0.216225</td>\n",
       "      <td>1.000000</td>\n",
       "    </tr>\n",
       "  </tbody>\n",
       "</table>\n",
       "</div>"
      ],
      "text/plain": [
       "            Age     SibSp     Parch      Fare\n",
       "Age    1.000000 -0.308247 -0.189119  0.096067\n",
       "SibSp -0.308247  1.000000  0.414838  0.159651\n",
       "Parch -0.189119  0.414838  1.000000  0.216225\n",
       "Fare   0.096067  0.159651  0.216225  1.000000"
      ]
     },
     "execution_count": 17,
     "metadata": {},
     "output_type": "execute_result"
    }
   ],
   "source": [
    "df_num.corr()"
   ]
  },
  {
   "cell_type": "code",
   "execution_count": 18,
   "id": "4e3abe51",
   "metadata": {
    "execution": {
     "iopub.execute_input": "2023-01-20T12:47:48.328390Z",
     "iopub.status.busy": "2023-01-20T12:47:48.328006Z",
     "iopub.status.idle": "2023-01-20T12:47:48.589441Z",
     "shell.execute_reply": "2023-01-20T12:47:48.588297Z"
    },
    "papermill": {
     "duration": 0.282056,
     "end_time": "2023-01-20T12:47:48.591849",
     "exception": false,
     "start_time": "2023-01-20T12:47:48.309793",
     "status": "completed"
    },
    "tags": []
   },
   "outputs": [
    {
     "data": {
      "text/plain": [
       "<AxesSubplot:>"
      ]
     },
     "execution_count": 18,
     "metadata": {},
     "output_type": "execute_result"
    },
    {
     "data": {
      "image/png": "[encoded data removed]",
      "text/plain": [
       "<Figure size 432x288 with 2 Axes>"
      ]
     },
     "metadata": {
      "needs_background": "light"
     },
     "output_type": "display_data"
    }
   ],
   "source": [
    "\n",
    "sns.heatmap(df_num.corr())"
   ]
  },
  {
   "cell_type": "code",
   "execution_count": 19,
   "id": "c318ecd0",
   "metadata": {
    "execution": {
     "iopub.execute_input": "2023-01-20T12:47:48.628246Z",
     "iopub.status.busy": "2023-01-20T12:47:48.627844Z",
     "iopub.status.idle": "2023-01-20T12:47:48.652896Z",
     "shell.execute_reply": "2023-01-20T12:47:48.651716Z"
    },
    "papermill": {
     "duration": 0.046135,
     "end_time": "2023-01-20T12:47:48.655185",
     "exception": false,
     "start_time": "2023-01-20T12:47:48.609050",
     "status": "completed"
    },
    "tags": []
   },
   "outputs": [
    {
     "data": {
      "text/html": [
       "<div>\n",
       "<style scoped>\n",
       "    .dataframe tbody tr th:only-of-type {\n",
       "        vertical-align: middle;\n",
       "    }\n",
       "\n",
       "    .dataframe tbody tr th {\n",
       "        vertical-align: top;\n",
       "    }\n",
       "\n",
       "    .dataframe thead th {\n",
       "        text-align: right;\n",
       "    }\n",
       "</style>\n",
       "<table border=\"1\" class=\"dataframe\">\n",
       "  <thead>\n",
       "    <tr style=\"text-align: right;\">\n",
       "      <th></th>\n",
       "      <th>Age</th>\n",
       "      <th>Fare</th>\n",
       "      <th>Parch</th>\n",
       "      <th>SibSp</th>\n",
       "    </tr>\n",
       "    <tr>\n",
       "      <th>Survived</th>\n",
       "      <th></th>\n",
       "      <th></th>\n",
       "      <th></th>\n",
       "      <th></th>\n",
       "    </tr>\n",
       "  </thead>\n",
       "  <tbody>\n",
       "    <tr>\n",
       "      <th>0</th>\n",
       "      <td>30.626179</td>\n",
       "      <td>22.117887</td>\n",
       "      <td>0.329690</td>\n",
       "      <td>0.553734</td>\n",
       "    </tr>\n",
       "    <tr>\n",
       "      <th>1</th>\n",
       "      <td>28.343690</td>\n",
       "      <td>48.395408</td>\n",
       "      <td>0.464912</td>\n",
       "      <td>0.473684</td>\n",
       "    </tr>\n",
       "  </tbody>\n",
       "</table>\n",
       "</div>"
      ],
      "text/plain": [
       "                Age       Fare     Parch     SibSp\n",
       "Survived                                          \n",
       "0         30.626179  22.117887  0.329690  0.553734\n",
       "1         28.343690  48.395408  0.464912  0.473684"
      ]
     },
     "execution_count": 19,
     "metadata": {},
     "output_type": "execute_result"
    }
   ],
   "source": [
    "pd.pivot_table(train_data,index='Survived',values=['Age','SibSp','Parch','Fare'],aggfunc=\"mean\")"
   ]
  },
  {
   "cell_type": "code",
   "execution_count": 20,
   "id": "4d334928",
   "metadata": {
    "execution": {
     "iopub.execute_input": "2023-01-20T12:47:48.691142Z",
     "iopub.status.busy": "2023-01-20T12:47:48.690757Z",
     "iopub.status.idle": "2023-01-20T12:47:59.731498Z",
     "shell.execute_reply": "2023-01-20T12:47:59.730393Z"
    },
    "papermill": {
     "duration": 11.061472,
     "end_time": "2023-01-20T12:47:59.733996",
     "exception": false,
     "start_time": "2023-01-20T12:47:48.672524",
     "status": "completed"
    },
    "tags": []
   },
   "outputs": [
    {
     "data": {
      "image/png": "[encoded data removed]",
      "text/plain": [
       "<Figure size 432x288 with 1 Axes>"
      ]
     },
     "metadata": {
      "needs_background": "light"
     },
     "output_type": "display_data"
    },
    {
     "data": {
      "image/png": "[encoded data removed]",
      "text/plain": [
       "<Figure size 432x288 with 1 Axes>"
      ]
     },
     "metadata": {
      "needs_background": "light"
     },
     "output_type": "display_data"
    },
    {
     "data": {
      "image/png": "[encoded data removed]",
      "text/plain": [
       "<Figure size 432x288 with 1 Axes>"
      ]
     },
     "metadata": {
      "needs_background": "light"
     },
     "output_type": "display_data"
    },
    {
     "data": {
      "image/png": "[encoded data removed]",
      "text/plain": [
       "<Figure size 432x288 with 1 Axes>"
      ]
     },
     "metadata": {
      "needs_background": "light"
     },
     "output_type": "display_data"
    },
    {
     "data": {
      "image/png": "[encoded data removed]",
      "text/plain": [
       "<Figure size 432x288 with 1 Axes>"
      ]
     },
     "metadata": {
      "needs_background": "light"
     },
     "output_type": "display_data"
    },
    {
     "data": {
      "image/png": "[encoded data removed]",
      "text/plain": [
       "<Figure size 432x288 with 1 Axes>"
      ]
     },
     "metadata": {
      "needs_background": "light"
     },
     "output_type": "display_data"
    }
   ],
   "source": [
    "for i in df_cat.columns:\n",
    "    sns.barplot(x=df_cat[i].value_counts().index,y=df_cat[i].value_counts()).set_title(i)\n",
    "    plt.show()"
   ]
  },
  {
   "cell_type": "code",
   "execution_count": 21,
   "id": "ab6772b3",
   "metadata": {
    "execution": {
     "iopub.execute_input": "2023-01-20T12:47:59.773838Z",
     "iopub.status.busy": "2023-01-20T12:47:59.772771Z",
     "iopub.status.idle": "2023-01-20T12:47:59.792386Z",
     "shell.execute_reply": "2023-01-20T12:47:59.791168Z"
    },
    "papermill": {
     "duration": 0.042253,
     "end_time": "2023-01-20T12:47:59.794957",
     "exception": false,
     "start_time": "2023-01-20T12:47:59.752704",
     "status": "completed"
    },
    "tags": []
   },
   "outputs": [
    {
     "data": {
      "text/html": [
       "<div>\n",
       "<style scoped>\n",
       "    .dataframe tbody tr th:only-of-type {\n",
       "        vertical-align: middle;\n",
       "    }\n",
       "\n",
       "    .dataframe tbody tr th {\n",
       "        vertical-align: top;\n",
       "    }\n",
       "\n",
       "    .dataframe thead th {\n",
       "        text-align: right;\n",
       "    }\n",
       "</style>\n",
       "<table border=\"1\" class=\"dataframe\">\n",
       "  <thead>\n",
       "    <tr style=\"text-align: right;\">\n",
       "      <th>Sex</th>\n",
       "      <th>female</th>\n",
       "      <th>male</th>\n",
       "    </tr>\n",
       "    <tr>\n",
       "      <th>Survived</th>\n",
       "      <th></th>\n",
       "      <th></th>\n",
       "    </tr>\n",
       "  </thead>\n",
       "  <tbody>\n",
       "    <tr>\n",
       "      <th>0</th>\n",
       "      <td>81</td>\n",
       "      <td>468</td>\n",
       "    </tr>\n",
       "    <tr>\n",
       "      <th>1</th>\n",
       "      <td>233</td>\n",
       "      <td>109</td>\n",
       "    </tr>\n",
       "  </tbody>\n",
       "</table>\n",
       "</div>"
      ],
      "text/plain": [
       "Sex       female  male\n",
       "Survived              \n",
       "0             81   468\n",
       "1            233   109"
      ]
     },
     "execution_count": 21,
     "metadata": {},
     "output_type": "execute_result"
    }
   ],
   "source": [
    "pd.pivot_table(train_data,index='Survived',columns='Sex',values='PassengerId',aggfunc='count')"
   ]
  },
  {
   "cell_type": "code",
   "execution_count": 22,
   "id": "99e93542",
   "metadata": {
    "execution": {
     "iopub.execute_input": "2023-01-20T12:47:59.834435Z",
     "iopub.status.busy": "2023-01-20T12:47:59.833999Z",
     "iopub.status.idle": "2023-01-20T12:47:59.853281Z",
     "shell.execute_reply": "2023-01-20T12:47:59.851968Z"
    },
    "papermill": {
     "duration": 0.041248,
     "end_time": "2023-01-20T12:47:59.855392",
     "exception": false,
     "start_time": "2023-01-20T12:47:59.814144",
     "status": "completed"
    },
    "tags": []
   },
   "outputs": [
    {
     "data": {
      "text/html": [
       "<div>\n",
       "<style scoped>\n",
       "    .dataframe tbody tr th:only-of-type {\n",
       "        vertical-align: middle;\n",
       "    }\n",
       "\n",
       "    .dataframe tbody tr th {\n",
       "        vertical-align: top;\n",
       "    }\n",
       "\n",
       "    .dataframe thead th {\n",
       "        text-align: right;\n",
       "    }\n",
       "</style>\n",
       "<table border=\"1\" class=\"dataframe\">\n",
       "  <thead>\n",
       "    <tr style=\"text-align: right;\">\n",
       "      <th>Embarked</th>\n",
       "      <th>C</th>\n",
       "      <th>Q</th>\n",
       "      <th>S</th>\n",
       "    </tr>\n",
       "    <tr>\n",
       "      <th>Survived</th>\n",
       "      <th></th>\n",
       "      <th></th>\n",
       "      <th></th>\n",
       "    </tr>\n",
       "  </thead>\n",
       "  <tbody>\n",
       "    <tr>\n",
       "      <th>0</th>\n",
       "      <td>75</td>\n",
       "      <td>47</td>\n",
       "      <td>427</td>\n",
       "    </tr>\n",
       "    <tr>\n",
       "      <th>1</th>\n",
       "      <td>93</td>\n",
       "      <td>30</td>\n",
       "      <td>217</td>\n",
       "    </tr>\n",
       "  </tbody>\n",
       "</table>\n",
       "</div>"
      ],
      "text/plain": [
       "Embarked   C   Q    S\n",
       "Survived             \n",
       "0         75  47  427\n",
       "1         93  30  217"
      ]
     },
     "execution_count": 22,
     "metadata": {},
     "output_type": "execute_result"
    }
   ],
   "source": [
    "pd.pivot_table(train_data,index='Survived',columns='Embarked',values='PassengerId',aggfunc='count')"
   ]
  },
  {
   "cell_type": "code",
   "execution_count": 23,
   "id": "cc87e3ac",
   "metadata": {
    "execution": {
     "iopub.execute_input": "2023-01-20T12:47:59.895494Z",
     "iopub.status.busy": "2023-01-20T12:47:59.894793Z",
     "iopub.status.idle": "2023-01-20T12:47:59.903315Z",
     "shell.execute_reply": "2023-01-20T12:47:59.902468Z"
    },
    "papermill": {
     "duration": 0.031103,
     "end_time": "2023-01-20T12:47:59.905315",
     "exception": false,
     "start_time": "2023-01-20T12:47:59.874212",
     "status": "completed"
    },
    "tags": []
   },
   "outputs": [
    {
     "data": {
      "text/plain": [
       "1              C85\n",
       "3             C123\n",
       "6              E46\n",
       "10              G6\n",
       "11            C103\n",
       "21             D56\n",
       "23              A6\n",
       "27     C23 C25 C27\n",
       "31             B78\n",
       "52             D33\n",
       "54             B30\n",
       "55             C52\n",
       "61             B28\n",
       "62             C83\n",
       "66             F33\n",
       "75           F G73\n",
       "88     C23 C25 C27\n",
       "92             E31\n",
       "96              A5\n",
       "97         D10 D12\n",
       "102            D26\n",
       "110           C110\n",
       "118        B58 B60\n",
       "123           E101\n",
       "124            D26\n",
       "128          F E69\n",
       "136            D47\n",
       "137           C123\n",
       "139            B86\n",
       "148             F2\n",
       "151             C2\n",
       "166            E33\n",
       "170            B19\n",
       "174             A7\n",
       "177            C49\n",
       "183             F4\n",
       "185            A32\n",
       "193             F2\n",
       "194             B4\n",
       "195            B80\n",
       "Name: Cabin, dtype: object"
      ]
     },
     "execution_count": 23,
     "metadata": {},
     "output_type": "execute_result"
    }
   ],
   "source": [
    "df_cat[df_cat.Cabin.notnull()].Cabin.head(40)"
   ]
  },
  {
   "cell_type": "code",
   "execution_count": 24,
   "id": "710323ef",
   "metadata": {
    "execution": {
     "iopub.execute_input": "2023-01-20T12:47:59.945453Z",
     "iopub.status.busy": "2023-01-20T12:47:59.944791Z",
     "iopub.status.idle": "2023-01-20T12:47:59.954330Z",
     "shell.execute_reply": "2023-01-20T12:47:59.953550Z"
    },
    "papermill": {
     "duration": 0.031971,
     "end_time": "2023-01-20T12:47:59.956452",
     "exception": false,
     "start_time": "2023-01-20T12:47:59.924481",
     "status": "completed"
    },
    "tags": []
   },
   "outputs": [
    {
     "data": {
      "text/plain": [
       "0    687\n",
       "1    180\n",
       "2     16\n",
       "3      6\n",
       "4      2\n",
       "Name: cabin_multiple, dtype: int64"
      ]
     },
     "execution_count": 24,
     "metadata": {},
     "output_type": "execute_result"
    }
   ],
   "source": [
    "train_data[\"cabin_multiple\"] = train_data.Cabin.apply(lambda x: 0 if pd.isna(x) else len(x.split(' ')))\n",
    "train_data[\"cabin_multiple\"].value_counts()\n"
   ]
  },
  {
   "cell_type": "code",
   "execution_count": 25,
   "id": "3b50b669",
   "metadata": {
    "execution": {
     "iopub.execute_input": "2023-01-20T12:47:59.996751Z",
     "iopub.status.busy": "2023-01-20T12:47:59.996007Z",
     "iopub.status.idle": "2023-01-20T12:48:00.018919Z",
     "shell.execute_reply": "2023-01-20T12:48:00.017760Z"
    },
    "papermill": {
     "duration": 0.045972,
     "end_time": "2023-01-20T12:48:00.021521",
     "exception": false,
     "start_time": "2023-01-20T12:47:59.975549",
     "status": "completed"
    },
    "tags": []
   },
   "outputs": [
    {
     "data": {
      "text/html": [
       "<div>\n",
       "<style scoped>\n",
       "    .dataframe tbody tr th:only-of-type {\n",
       "        vertical-align: middle;\n",
       "    }\n",
       "\n",
       "    .dataframe tbody tr th {\n",
       "        vertical-align: top;\n",
       "    }\n",
       "\n",
       "    .dataframe thead th {\n",
       "        text-align: right;\n",
       "    }\n",
       "</style>\n",
       "<table border=\"1\" class=\"dataframe\">\n",
       "  <thead>\n",
       "    <tr style=\"text-align: right;\">\n",
       "      <th>cabin_multiple</th>\n",
       "      <th>0</th>\n",
       "      <th>1</th>\n",
       "      <th>2</th>\n",
       "      <th>3</th>\n",
       "      <th>4</th>\n",
       "    </tr>\n",
       "    <tr>\n",
       "      <th>Survived</th>\n",
       "      <th></th>\n",
       "      <th></th>\n",
       "      <th></th>\n",
       "      <th></th>\n",
       "      <th></th>\n",
       "    </tr>\n",
       "  </thead>\n",
       "  <tbody>\n",
       "    <tr>\n",
       "      <th>0</th>\n",
       "      <td>481.0</td>\n",
       "      <td>58.0</td>\n",
       "      <td>7.0</td>\n",
       "      <td>3.0</td>\n",
       "      <td>NaN</td>\n",
       "    </tr>\n",
       "    <tr>\n",
       "      <th>1</th>\n",
       "      <td>206.0</td>\n",
       "      <td>122.0</td>\n",
       "      <td>9.0</td>\n",
       "      <td>3.0</td>\n",
       "      <td>2.0</td>\n",
       "    </tr>\n",
       "  </tbody>\n",
       "</table>\n",
       "</div>"
      ],
      "text/plain": [
       "cabin_multiple      0      1    2    3    4\n",
       "Survived                                   \n",
       "0               481.0   58.0  7.0  3.0  NaN\n",
       "1               206.0  122.0  9.0  3.0  2.0"
      ]
     },
     "execution_count": 25,
     "metadata": {},
     "output_type": "execute_result"
    }
   ],
   "source": [
    "pd.pivot_table(train_data,index='Survived',columns='cabin_multiple',values='Ticket',aggfunc='count')"
   ]
  },
  {
   "cell_type": "code",
   "execution_count": 26,
   "id": "d87d345d",
   "metadata": {
    "execution": {
     "iopub.execute_input": "2023-01-20T12:48:00.062760Z",
     "iopub.status.busy": "2023-01-20T12:48:00.061837Z",
     "iopub.status.idle": "2023-01-20T12:48:00.068364Z",
     "shell.execute_reply": "2023-01-20T12:48:00.067302Z"
    },
    "papermill": {
     "duration": 0.029907,
     "end_time": "2023-01-20T12:48:00.070904",
     "exception": false,
     "start_time": "2023-01-20T12:48:00.040997",
     "status": "completed"
    },
    "tags": []
   },
   "outputs": [],
   "source": [
    "train_data['cabin_adv']=train_data.Cabin.apply(lambda x: str(x)[0])"
   ]
  },
  {
   "cell_type": "code",
   "execution_count": 27,
   "id": "3e3e9b51",
   "metadata": {
    "execution": {
     "iopub.execute_input": "2023-01-20T12:48:00.111147Z",
     "iopub.status.busy": "2023-01-20T12:48:00.110719Z",
     "iopub.status.idle": "2023-01-20T12:48:00.119577Z",
     "shell.execute_reply": "2023-01-20T12:48:00.118755Z"
    },
    "papermill": {
     "duration": 0.031378,
     "end_time": "2023-01-20T12:48:00.121620",
     "exception": false,
     "start_time": "2023-01-20T12:48:00.090242",
     "status": "completed"
    },
    "tags": []
   },
   "outputs": [
    {
     "data": {
      "text/plain": [
       "n    687\n",
       "C     59\n",
       "B     47\n",
       "D     33\n",
       "E     32\n",
       "A     15\n",
       "F     13\n",
       "G      4\n",
       "T      1\n",
       "Name: cabin_adv, dtype: int64"
      ]
     },
     "execution_count": 27,
     "metadata": {},
     "output_type": "execute_result"
    }
   ],
   "source": [
    "train_data.cabin_adv.value_counts()"
   ]
  },
  {
   "cell_type": "code",
   "execution_count": 28,
   "id": "3809d70e",
   "metadata": {
    "execution": {
     "iopub.execute_input": "2023-01-20T12:48:00.162323Z",
     "iopub.status.busy": "2023-01-20T12:48:00.161646Z",
     "iopub.status.idle": "2023-01-20T12:48:00.186050Z",
     "shell.execute_reply": "2023-01-20T12:48:00.184970Z"
    },
    "papermill": {
     "duration": 0.047514,
     "end_time": "2023-01-20T12:48:00.188490",
     "exception": false,
     "start_time": "2023-01-20T12:48:00.140976",
     "status": "completed"
    },
    "tags": []
   },
   "outputs": [
    {
     "data": {
      "text/html": [
       "<div>\n",
       "<style scoped>\n",
       "    .dataframe tbody tr th:only-of-type {\n",
       "        vertical-align: middle;\n",
       "    }\n",
       "\n",
       "    .dataframe tbody tr th {\n",
       "        vertical-align: top;\n",
       "    }\n",
       "\n",
       "    .dataframe thead th {\n",
       "        text-align: right;\n",
       "    }\n",
       "</style>\n",
       "<table border=\"1\" class=\"dataframe\">\n",
       "  <thead>\n",
       "    <tr style=\"text-align: right;\">\n",
       "      <th>cabin_adv</th>\n",
       "      <th>A</th>\n",
       "      <th>B</th>\n",
       "      <th>C</th>\n",
       "      <th>D</th>\n",
       "      <th>E</th>\n",
       "      <th>F</th>\n",
       "      <th>G</th>\n",
       "      <th>T</th>\n",
       "      <th>n</th>\n",
       "    </tr>\n",
       "    <tr>\n",
       "      <th>Survived</th>\n",
       "      <th></th>\n",
       "      <th></th>\n",
       "      <th></th>\n",
       "      <th></th>\n",
       "      <th></th>\n",
       "      <th></th>\n",
       "      <th></th>\n",
       "      <th></th>\n",
       "      <th></th>\n",
       "    </tr>\n",
       "  </thead>\n",
       "  <tbody>\n",
       "    <tr>\n",
       "      <th>0</th>\n",
       "      <td>8.0</td>\n",
       "      <td>12.0</td>\n",
       "      <td>24.0</td>\n",
       "      <td>8.0</td>\n",
       "      <td>8.0</td>\n",
       "      <td>5.0</td>\n",
       "      <td>2.0</td>\n",
       "      <td>1.0</td>\n",
       "      <td>481.0</td>\n",
       "    </tr>\n",
       "    <tr>\n",
       "      <th>1</th>\n",
       "      <td>7.0</td>\n",
       "      <td>35.0</td>\n",
       "      <td>35.0</td>\n",
       "      <td>25.0</td>\n",
       "      <td>24.0</td>\n",
       "      <td>8.0</td>\n",
       "      <td>2.0</td>\n",
       "      <td>NaN</td>\n",
       "      <td>206.0</td>\n",
       "    </tr>\n",
       "  </tbody>\n",
       "</table>\n",
       "</div>"
      ],
      "text/plain": [
       "cabin_adv    A     B     C     D     E    F    G    T      n\n",
       "Survived                                                    \n",
       "0          8.0  12.0  24.0   8.0   8.0  5.0  2.0  1.0  481.0\n",
       "1          7.0  35.0  35.0  25.0  24.0  8.0  2.0  NaN  206.0"
      ]
     },
     "execution_count": 28,
     "metadata": {},
     "output_type": "execute_result"
    }
   ],
   "source": [
    "pd.pivot_table(train_data,index='Survived',columns='cabin_adv',values='Name',aggfunc='count')"
   ]
  },
  {
   "cell_type": "code",
   "execution_count": 29,
   "id": "5c85fa18",
   "metadata": {
    "execution": {
     "iopub.execute_input": "2023-01-20T12:48:00.229554Z",
     "iopub.status.busy": "2023-01-20T12:48:00.228847Z",
     "iopub.status.idle": "2023-01-20T12:48:00.236808Z",
     "shell.execute_reply": "2023-01-20T12:48:00.235711Z"
    },
    "papermill": {
     "duration": 0.03099,
     "end_time": "2023-01-20T12:48:00.238977",
     "exception": false,
     "start_time": "2023-01-20T12:48:00.207987",
     "status": "completed"
    },
    "tags": []
   },
   "outputs": [
    {
     "data": {
      "text/plain": [
       "436    W./C. 6608\n",
       "21         248698\n",
       "413        239853\n",
       "727         36866\n",
       "6           17463\n",
       "837        392092\n",
       "430        110564\n",
       "304      A/5 2466\n",
       "54         113509\n",
       "639        376564\n",
       "183        230136\n",
       "60           2669\n",
       "238         28665\n",
       "620          2659\n",
       "823        392096\n",
       "112        324669\n",
       "18         345763\n",
       "179          LINE\n",
       "548        363291\n",
       "231        347067\n",
       "Name: Ticket, dtype: object"
      ]
     },
     "execution_count": 29,
     "metadata": {},
     "output_type": "execute_result"
    }
   ],
   "source": [
    "train_data['Ticket'].sample(20)"
   ]
  },
  {
   "cell_type": "code",
   "execution_count": 30,
   "id": "b2d05727",
   "metadata": {
    "execution": {
     "iopub.execute_input": "2023-01-20T12:48:00.279842Z",
     "iopub.status.busy": "2023-01-20T12:48:00.279429Z",
     "iopub.status.idle": "2023-01-20T12:48:00.288924Z",
     "shell.execute_reply": "2023-01-20T12:48:00.287820Z"
    },
    "papermill": {
     "duration": 0.032611,
     "end_time": "2023-01-20T12:48:00.291233",
     "exception": false,
     "start_time": "2023-01-20T12:48:00.258622",
     "status": "completed"
    },
    "tags": []
   },
   "outputs": [
    {
     "data": {
      "text/plain": [
       "count        891\n",
       "unique       681\n",
       "top       347082\n",
       "freq           7\n",
       "Name: Ticket, dtype: object"
      ]
     },
     "execution_count": 30,
     "metadata": {},
     "output_type": "execute_result"
    }
   ],
   "source": [
    "train_data['Ticket'].describe()"
   ]
  },
  {
   "cell_type": "code",
   "execution_count": 31,
   "id": "6276e03a",
   "metadata": {
    "execution": {
     "iopub.execute_input": "2023-01-20T12:48:00.332680Z",
     "iopub.status.busy": "2023-01-20T12:48:00.331972Z",
     "iopub.status.idle": "2023-01-20T12:48:00.340830Z",
     "shell.execute_reply": "2023-01-20T12:48:00.339713Z"
    },
    "papermill": {
     "duration": 0.031933,
     "end_time": "2023-01-20T12:48:00.343025",
     "exception": false,
     "start_time": "2023-01-20T12:48:00.311092",
     "status": "completed"
    },
    "tags": []
   },
   "outputs": [
    {
     "data": {
      "text/plain": [
       "0             A/5 21171\n",
       "1              PC 17599\n",
       "2      STON/O2. 3101282\n",
       "3                113803\n",
       "4                373450\n",
       "             ...       \n",
       "886              211536\n",
       "887              112053\n",
       "888          W./C. 6607\n",
       "889              111369\n",
       "890              370376\n",
       "Name: Ticket, Length: 891, dtype: object"
      ]
     },
     "execution_count": 31,
     "metadata": {},
     "output_type": "execute_result"
    }
   ],
   "source": [
    "train_data['Ticket'].head(891)"
   ]
  },
  {
   "cell_type": "code",
   "execution_count": 32,
   "id": "9fdb0e54",
   "metadata": {
    "execution": {
     "iopub.execute_input": "2023-01-20T12:48:00.384755Z",
     "iopub.status.busy": "2023-01-20T12:48:00.383697Z",
     "iopub.status.idle": "2023-01-20T12:48:00.390845Z",
     "shell.execute_reply": "2023-01-20T12:48:00.390028Z"
    },
    "papermill": {
     "duration": 0.030431,
     "end_time": "2023-01-20T12:48:00.393154",
     "exception": false,
     "start_time": "2023-01-20T12:48:00.362723",
     "status": "completed"
    },
    "tags": []
   },
   "outputs": [],
   "source": [
    "train_data['numeric_ticket']=train_data.Ticket.apply(lambda x: 1 if x.isnumeric() else 0)"
   ]
  },
  {
   "cell_type": "code",
   "execution_count": 33,
   "id": "f54d1b88",
   "metadata": {
    "execution": {
     "iopub.execute_input": "2023-01-20T12:48:00.435589Z",
     "iopub.status.busy": "2023-01-20T12:48:00.434412Z",
     "iopub.status.idle": "2023-01-20T12:48:00.453300Z",
     "shell.execute_reply": "2023-01-20T12:48:00.452222Z"
    },
    "papermill": {
     "duration": 0.042418,
     "end_time": "2023-01-20T12:48:00.455652",
     "exception": false,
     "start_time": "2023-01-20T12:48:00.413234",
     "status": "completed"
    },
    "tags": []
   },
   "outputs": [
    {
     "data": {
      "text/html": [
       "<div>\n",
       "<style scoped>\n",
       "    .dataframe tbody tr th:only-of-type {\n",
       "        vertical-align: middle;\n",
       "    }\n",
       "\n",
       "    .dataframe tbody tr th {\n",
       "        vertical-align: top;\n",
       "    }\n",
       "\n",
       "    .dataframe thead th {\n",
       "        text-align: right;\n",
       "    }\n",
       "</style>\n",
       "<table border=\"1\" class=\"dataframe\">\n",
       "  <thead>\n",
       "    <tr style=\"text-align: right;\">\n",
       "      <th>numeric_ticket</th>\n",
       "      <th>0</th>\n",
       "      <th>1</th>\n",
       "    </tr>\n",
       "    <tr>\n",
       "      <th>Survived</th>\n",
       "      <th></th>\n",
       "      <th></th>\n",
       "    </tr>\n",
       "  </thead>\n",
       "  <tbody>\n",
       "    <tr>\n",
       "      <th>0</th>\n",
       "      <td>142</td>\n",
       "      <td>407</td>\n",
       "    </tr>\n",
       "    <tr>\n",
       "      <th>1</th>\n",
       "      <td>88</td>\n",
       "      <td>254</td>\n",
       "    </tr>\n",
       "  </tbody>\n",
       "</table>\n",
       "</div>"
      ],
      "text/plain": [
       "numeric_ticket    0    1\n",
       "Survived                \n",
       "0               142  407\n",
       "1                88  254"
      ]
     },
     "execution_count": 33,
     "metadata": {},
     "output_type": "execute_result"
    }
   ],
   "source": [
    "pd.pivot_table(train_data,index='Survived',columns='numeric_ticket',values='Name',aggfunc='count')"
   ]
  },
  {
   "cell_type": "code",
   "execution_count": 34,
   "id": "4cc000c7",
   "metadata": {
    "execution": {
     "iopub.execute_input": "2023-01-20T12:48:00.497902Z",
     "iopub.status.busy": "2023-01-20T12:48:00.496856Z",
     "iopub.status.idle": "2023-01-20T12:48:00.505833Z",
     "shell.execute_reply": "2023-01-20T12:48:00.504636Z"
    },
    "papermill": {
     "duration": 0.03241,
     "end_time": "2023-01-20T12:48:00.508057",
     "exception": false,
     "start_time": "2023-01-20T12:48:00.475647",
     "status": "completed"
    },
    "tags": []
   },
   "outputs": [
    {
     "data": {
      "text/plain": [
       "0                               Braund, Mr. Owen Harris\n",
       "1     Cumings, Mrs. John Bradley (Florence Briggs Th...\n",
       "2                                Heikkinen, Miss. Laina\n",
       "3          Futrelle, Mrs. Jacques Heath (Lily May Peel)\n",
       "4                              Allen, Mr. William Henry\n",
       "5                                      Moran, Mr. James\n",
       "6                               McCarthy, Mr. Timothy J\n",
       "7                        Palsson, Master. Gosta Leonard\n",
       "8     Johnson, Mrs. Oscar W (Elisabeth Vilhelmina Berg)\n",
       "9                   Nasser, Mrs. Nicholas (Adele Achem)\n",
       "10                      Sandstrom, Miss. Marguerite Rut\n",
       "11                             Bonnell, Miss. Elizabeth\n",
       "12                       Saundercock, Mr. William Henry\n",
       "13                          Andersson, Mr. Anders Johan\n",
       "14                 Vestrom, Miss. Hulda Amanda Adolfina\n",
       "15                     Hewlett, Mrs. (Mary D Kingcome) \n",
       "16                                 Rice, Master. Eugene\n",
       "17                         Williams, Mr. Charles Eugene\n",
       "18    Vander Planke, Mrs. Julius (Emelia Maria Vande...\n",
       "19                              Masselmani, Mrs. Fatima\n",
       "20                                 Fynney, Mr. Joseph J\n",
       "21                                Beesley, Mr. Lawrence\n",
       "22                          McGowan, Miss. Anna \"Annie\"\n",
       "23                         Sloper, Mr. William Thompson\n",
       "24                        Palsson, Miss. Torborg Danira\n",
       "25    Asplund, Mrs. Carl Oscar (Selma Augusta Emilia...\n",
       "26                              Emir, Mr. Farred Chehab\n",
       "27                       Fortune, Mr. Charles Alexander\n",
       "28                        O'Dwyer, Miss. Ellen \"Nellie\"\n",
       "29                                  Todoroff, Mr. Lalio\n",
       "30                             Uruchurtu, Don. Manuel E\n",
       "31       Spencer, Mrs. William Augustus (Marie Eugenie)\n",
       "32                             Glynn, Miss. Mary Agatha\n",
       "33                                Wheadon, Mr. Edward H\n",
       "34                              Meyer, Mr. Edgar Joseph\n",
       "35                       Holverson, Mr. Alexander Oskar\n",
       "36                                     Mamee, Mr. Hanna\n",
       "37                             Cann, Mr. Ernest Charles\n",
       "38                   Vander Planke, Miss. Augusta Maria\n",
       "39                          Nicola-Yarred, Miss. Jamila\n",
       "40       Ahlin, Mrs. Johan (Johanna Persdotter Larsson)\n",
       "41    Turpin, Mrs. William John Robert (Dorothy Ann ...\n",
       "42                                  Kraeff, Mr. Theodor\n",
       "43             Laroche, Miss. Simonne Marie Anne Andree\n",
       "44                        Devaney, Miss. Margaret Delia\n",
       "45                             Rogers, Mr. William John\n",
       "46                                    Lennon, Mr. Denis\n",
       "47                            O'Driscoll, Miss. Bridget\n",
       "48                                  Samaan, Mr. Youssef\n",
       "49        Arnold-Franchi, Mrs. Josef (Josefine Franchi)\n",
       "Name: Name, dtype: object"
      ]
     },
     "execution_count": 34,
     "metadata": {},
     "output_type": "execute_result"
    }
   ],
   "source": [
    "train_data.Name.head(50)"
   ]
  },
  {
   "cell_type": "code",
   "execution_count": 35,
   "id": "27b5284e",
   "metadata": {
    "execution": {
     "iopub.execute_input": "2023-01-20T12:48:00.550617Z",
     "iopub.status.busy": "2023-01-20T12:48:00.549537Z",
     "iopub.status.idle": "2023-01-20T12:48:00.556888Z",
     "shell.execute_reply": "2023-01-20T12:48:00.556124Z"
    },
    "papermill": {
     "duration": 0.030779,
     "end_time": "2023-01-20T12:48:00.559033",
     "exception": false,
     "start_time": "2023-01-20T12:48:00.528254",
     "status": "completed"
    },
    "tags": []
   },
   "outputs": [],
   "source": [
    "train_data['name_title']=train_data.Name.apply(lambda x: x.split(',')[1].split(',')[0].strip())"
   ]
  },
  {
   "cell_type": "code",
   "execution_count": 36,
   "id": "a38ab12f",
   "metadata": {
    "execution": {
     "iopub.execute_input": "2023-01-20T12:48:00.601451Z",
     "iopub.status.busy": "2023-01-20T12:48:00.600391Z",
     "iopub.status.idle": "2023-01-20T12:48:00.609247Z",
     "shell.execute_reply": "2023-01-20T12:48:00.608515Z"
    },
    "papermill": {
     "duration": 0.032134,
     "end_time": "2023-01-20T12:48:00.611265",
     "exception": false,
     "start_time": "2023-01-20T12:48:00.579131",
     "status": "completed"
    },
    "tags": []
   },
   "outputs": [
    {
     "data": {
      "text/plain": [
       "Mr. John                                                        7\n",
       "Mr. James                                                       7\n",
       "Miss. Mary                                                      6\n",
       "Mr. William                                                     6\n",
       "Mr. William John                                                4\n",
       "                                                               ..\n",
       "Mr. Howard Hugh \"Harry\"                                         1\n",
       "Master. Hudson Trevor                                           1\n",
       "Miss. Margaret                                                  1\n",
       "Mrs. Victor de Satode (Maria Josefa Perez de Soto y Vallejo)    1\n",
       "Mr. Karl Howell                                                 1\n",
       "Name: name_title, Length: 803, dtype: int64"
      ]
     },
     "execution_count": 36,
     "metadata": {},
     "output_type": "execute_result"
    }
   ],
   "source": [
    "train_data['name_title'].value_counts()"
   ]
  },
  {
   "cell_type": "code",
   "execution_count": 37,
   "id": "3e404899",
   "metadata": {
    "execution": {
     "iopub.execute_input": "2023-01-20T12:48:00.653896Z",
     "iopub.status.busy": "2023-01-20T12:48:00.653292Z",
     "iopub.status.idle": "2023-01-20T12:48:00.660702Z",
     "shell.execute_reply": "2023-01-20T12:48:00.659623Z"
    },
    "papermill": {
     "duration": 0.031116,
     "end_time": "2023-01-20T12:48:00.662713",
     "exception": false,
     "start_time": "2023-01-20T12:48:00.631597",
     "status": "completed"
    },
    "tags": []
   },
   "outputs": [
    {
     "data": {
      "text/plain": [
       "0                                 Mr. Owen Harris\n",
       "1      Mrs. John Bradley (Florence Briggs Thayer)\n",
       "2                                     Miss. Laina\n",
       "3              Mrs. Jacques Heath (Lily May Peel)\n",
       "4                               Mr. William Henry\n",
       "                          ...                    \n",
       "798                                  Mr. Yousseff\n",
       "799    Mrs. Jean Baptiste (Rosalie Paula Govaert)\n",
       "800                                    Mr. Martin\n",
       "801            Mrs. Harvey (Charlotte Annie Tate)\n",
       "802                   Master. William Thornton II\n",
       "Name: name_title, Length: 803, dtype: object"
      ]
     },
     "execution_count": 37,
     "metadata": {},
     "output_type": "execute_result"
    }
   ],
   "source": [
    "train_data['name_title'].head(803)"
   ]
  },
  {
   "cell_type": "code",
   "execution_count": 38,
   "id": "ad692a3a",
   "metadata": {
    "execution": {
     "iopub.execute_input": "2023-01-20T12:48:00.705870Z",
     "iopub.status.busy": "2023-01-20T12:48:00.705251Z",
     "iopub.status.idle": "2023-01-20T12:48:00.731397Z",
     "shell.execute_reply": "2023-01-20T12:48:00.730574Z"
    },
    "papermill": {
     "duration": 0.050453,
     "end_time": "2023-01-20T12:48:00.733662",
     "exception": false,
     "start_time": "2023-01-20T12:48:00.683209",
     "status": "completed"
    },
    "tags": []
   },
   "outputs": [
    {
     "data": {
      "text/html": [
       "<div>\n",
       "<style scoped>\n",
       "    .dataframe tbody tr th:only-of-type {\n",
       "        vertical-align: middle;\n",
       "    }\n",
       "\n",
       "    .dataframe tbody tr th {\n",
       "        vertical-align: top;\n",
       "    }\n",
       "\n",
       "    .dataframe thead th {\n",
       "        text-align: right;\n",
       "    }\n",
       "</style>\n",
       "<table border=\"1\" class=\"dataframe\">\n",
       "  <thead>\n",
       "    <tr style=\"text-align: right;\">\n",
       "      <th></th>\n",
       "      <th>PassengerId</th>\n",
       "      <th>Survived</th>\n",
       "      <th>Pclass</th>\n",
       "      <th>Name</th>\n",
       "      <th>Sex</th>\n",
       "      <th>Age</th>\n",
       "      <th>SibSp</th>\n",
       "      <th>Parch</th>\n",
       "      <th>Ticket</th>\n",
       "      <th>Fare</th>\n",
       "      <th>Cabin</th>\n",
       "      <th>Embarked</th>\n",
       "      <th>cabin_multiple</th>\n",
       "      <th>cabin_adv</th>\n",
       "      <th>numeric_ticket</th>\n",
       "      <th>name_title</th>\n",
       "      <th>train</th>\n",
       "    </tr>\n",
       "  </thead>\n",
       "  <tbody>\n",
       "    <tr>\n",
       "      <th>0</th>\n",
       "      <td>1</td>\n",
       "      <td>0.0</td>\n",
       "      <td>3</td>\n",
       "      <td>Braund, Mr. Owen Harris</td>\n",
       "      <td>male</td>\n",
       "      <td>22.0</td>\n",
       "      <td>1</td>\n",
       "      <td>0</td>\n",
       "      <td>A/5 21171</td>\n",
       "      <td>7.2500</td>\n",
       "      <td>NaN</td>\n",
       "      <td>S</td>\n",
       "      <td>0.0</td>\n",
       "      <td>n</td>\n",
       "      <td>0.0</td>\n",
       "      <td>Mr. Owen Harris</td>\n",
       "      <td>1</td>\n",
       "    </tr>\n",
       "    <tr>\n",
       "      <th>1</th>\n",
       "      <td>2</td>\n",
       "      <td>1.0</td>\n",
       "      <td>1</td>\n",
       "      <td>Cumings, Mrs. John Bradley (Florence Briggs Th...</td>\n",
       "      <td>female</td>\n",
       "      <td>38.0</td>\n",
       "      <td>1</td>\n",
       "      <td>0</td>\n",
       "      <td>PC 17599</td>\n",
       "      <td>71.2833</td>\n",
       "      <td>C85</td>\n",
       "      <td>C</td>\n",
       "      <td>1.0</td>\n",
       "      <td>C</td>\n",
       "      <td>0.0</td>\n",
       "      <td>Mrs. John Bradley (Florence Briggs Thayer)</td>\n",
       "      <td>1</td>\n",
       "    </tr>\n",
       "    <tr>\n",
       "      <th>2</th>\n",
       "      <td>3</td>\n",
       "      <td>1.0</td>\n",
       "      <td>3</td>\n",
       "      <td>Heikkinen, Miss. Laina</td>\n",
       "      <td>female</td>\n",
       "      <td>26.0</td>\n",
       "      <td>0</td>\n",
       "      <td>0</td>\n",
       "      <td>STON/O2. 3101282</td>\n",
       "      <td>7.9250</td>\n",
       "      <td>NaN</td>\n",
       "      <td>S</td>\n",
       "      <td>0.0</td>\n",
       "      <td>n</td>\n",
       "      <td>0.0</td>\n",
       "      <td>Miss. Laina</td>\n",
       "      <td>1</td>\n",
       "    </tr>\n",
       "    <tr>\n",
       "      <th>3</th>\n",
       "      <td>4</td>\n",
       "      <td>1.0</td>\n",
       "      <td>1</td>\n",
       "      <td>Futrelle, Mrs. Jacques Heath (Lily May Peel)</td>\n",
       "      <td>female</td>\n",
       "      <td>35.0</td>\n",
       "      <td>1</td>\n",
       "      <td>0</td>\n",
       "      <td>113803</td>\n",
       "      <td>53.1000</td>\n",
       "      <td>C123</td>\n",
       "      <td>S</td>\n",
       "      <td>1.0</td>\n",
       "      <td>C</td>\n",
       "      <td>1.0</td>\n",
       "      <td>Mrs. Jacques Heath (Lily May Peel)</td>\n",
       "      <td>1</td>\n",
       "    </tr>\n",
       "    <tr>\n",
       "      <th>4</th>\n",
       "      <td>5</td>\n",
       "      <td>0.0</td>\n",
       "      <td>3</td>\n",
       "      <td>Allen, Mr. William Henry</td>\n",
       "      <td>male</td>\n",
       "      <td>35.0</td>\n",
       "      <td>0</td>\n",
       "      <td>0</td>\n",
       "      <td>373450</td>\n",
       "      <td>8.0500</td>\n",
       "      <td>NaN</td>\n",
       "      <td>S</td>\n",
       "      <td>0.0</td>\n",
       "      <td>n</td>\n",
       "      <td>1.0</td>\n",
       "      <td>Mr. William Henry</td>\n",
       "      <td>1</td>\n",
       "    </tr>\n",
       "  </tbody>\n",
       "</table>\n",
       "</div>"
      ],
      "text/plain": [
       "   PassengerId  Survived  Pclass  \\\n",
       "0            1       0.0       3   \n",
       "1            2       1.0       1   \n",
       "2            3       1.0       3   \n",
       "3            4       1.0       1   \n",
       "4            5       0.0       3   \n",
       "\n",
       "                                                Name     Sex   Age  SibSp  \\\n",
       "0                            Braund, Mr. Owen Harris    male  22.0      1   \n",
       "1  Cumings, Mrs. John Bradley (Florence Briggs Th...  female  38.0      1   \n",
       "2                             Heikkinen, Miss. Laina  female  26.0      0   \n",
       "3       Futrelle, Mrs. Jacques Heath (Lily May Peel)  female  35.0      1   \n",
       "4                           Allen, Mr. William Henry    male  35.0      0   \n",
       "\n",
       "   Parch            Ticket     Fare Cabin Embarked  cabin_multiple cabin_adv  \\\n",
       "0      0         A/5 21171   7.2500   NaN        S             0.0         n   \n",
       "1      0          PC 17599  71.2833   C85        C             1.0         C   \n",
       "2      0  STON/O2. 3101282   7.9250   NaN        S             0.0         n   \n",
       "3      0            113803  53.1000  C123        S             1.0         C   \n",
       "4      0            373450   8.0500   NaN        S             0.0         n   \n",
       "\n",
       "   numeric_ticket                                  name_title  train  \n",
       "0             0.0                             Mr. Owen Harris      1  \n",
       "1             0.0  Mrs. John Bradley (Florence Briggs Thayer)      1  \n",
       "2             0.0                                 Miss. Laina      1  \n",
       "3             1.0          Mrs. Jacques Heath (Lily May Peel)      1  \n",
       "4             1.0                           Mr. William Henry      1  "
      ]
     },
     "execution_count": 38,
     "metadata": {},
     "output_type": "execute_result"
    }
   ],
   "source": [
    "train_data['train']=1\n",
    "test_data['train']=0\n",
    "test_data['Survived']=np.NaN\n",
    "all_data=pd.concat([train_data,test_data])\n",
    "all_data.head()"
   ]
  },
  {
   "cell_type": "code",
   "execution_count": 39,
   "id": "183d49a1",
   "metadata": {
    "execution": {
     "iopub.execute_input": "2023-01-20T12:48:00.777299Z",
     "iopub.status.busy": "2023-01-20T12:48:00.776695Z",
     "iopub.status.idle": "2023-01-20T12:48:00.788811Z",
     "shell.execute_reply": "2023-01-20T12:48:00.787784Z"
    },
    "papermill": {
     "duration": 0.036519,
     "end_time": "2023-01-20T12:48:00.791102",
     "exception": false,
     "start_time": "2023-01-20T12:48:00.754583",
     "status": "completed"
    },
    "tags": []
   },
   "outputs": [],
   "source": [
    "all_data[\"cabin_multiple\"] = all_data.Cabin.apply(lambda x: 0 if pd.isna(x) else len(x.split(' ')))\n",
    "all_data['cabin_adv']=all_data.Cabin.apply(lambda x: str(x)[0])\n",
    "all_data['numeric_ticket']=all_data.Ticket.apply(lambda x: 1 if x.isnumeric() else 0)\n",
    "all_data['name_title']=all_data.Name.apply(lambda x: x.split(',')[1].split(',')[0].strip())\n"
   ]
  },
  {
   "cell_type": "code",
   "execution_count": 40,
   "id": "747b804f",
   "metadata": {
    "execution": {
     "iopub.execute_input": "2023-01-20T12:48:00.834827Z",
     "iopub.status.busy": "2023-01-20T12:48:00.833916Z",
     "iopub.status.idle": "2023-01-20T12:48:00.849171Z",
     "shell.execute_reply": "2023-01-20T12:48:00.847827Z"
    },
    "papermill": {
     "duration": 0.039461,
     "end_time": "2023-01-20T12:48:00.851488",
     "exception": false,
     "start_time": "2023-01-20T12:48:00.812027",
     "status": "completed"
    },
    "tags": []
   },
   "outputs": [
    {
     "name": "stdout",
     "output_type": "stream",
     "text": [
      "<class 'pandas.core.frame.DataFrame'>\n",
      "Int64Index: 1309 entries, 0 to 417\n",
      "Data columns (total 17 columns):\n",
      " #   Column          Non-Null Count  Dtype  \n",
      "---  ------          --------------  -----  \n",
      " 0   PassengerId     1309 non-null   int64  \n",
      " 1   Survived        891 non-null    float64\n",
      " 2   Pclass          1309 non-null   int64  \n",
      " 3   Name            1309 non-null   object \n",
      " 4   Sex             1309 non-null   object \n",
      " 5   Age             1046 non-null   float64\n",
      " 6   SibSp           1309 non-null   int64  \n",
      " 7   Parch           1309 non-null   int64  \n",
      " 8   Ticket          1309 non-null   object \n",
      " 9   Fare            1308 non-null   float64\n",
      " 10  Cabin           295 non-null    object \n",
      " 11  Embarked        1307 non-null   object \n",
      " 12  cabin_multiple  1309 non-null   int64  \n",
      " 13  cabin_adv       1309 non-null   object \n",
      " 14  numeric_ticket  1309 non-null   int64  \n",
      " 15  name_title      1309 non-null   object \n",
      " 16  train           1309 non-null   int64  \n",
      "dtypes: float64(3), int64(7), object(7)\n",
      "memory usage: 184.1+ KB\n"
     ]
    }
   ],
   "source": [
    "all_data.info()"
   ]
  },
  {
   "cell_type": "code",
   "execution_count": 41,
   "id": "5bf88060",
   "metadata": {
    "execution": {
     "iopub.execute_input": "2023-01-20T12:48:00.895773Z",
     "iopub.status.busy": "2023-01-20T12:48:00.894986Z",
     "iopub.status.idle": "2023-01-20T12:48:00.935461Z",
     "shell.execute_reply": "2023-01-20T12:48:00.934263Z"
    },
    "papermill": {
     "duration": 0.065427,
     "end_time": "2023-01-20T12:48:00.937760",
     "exception": false,
     "start_time": "2023-01-20T12:48:00.872333",
     "status": "completed"
    },
    "tags": []
   },
   "outputs": [
    {
     "data": {
      "text/html": [
       "<div>\n",
       "<style scoped>\n",
       "    .dataframe tbody tr th:only-of-type {\n",
       "        vertical-align: middle;\n",
       "    }\n",
       "\n",
       "    .dataframe tbody tr th {\n",
       "        vertical-align: top;\n",
       "    }\n",
       "\n",
       "    .dataframe thead th {\n",
       "        text-align: right;\n",
       "    }\n",
       "</style>\n",
       "<table border=\"1\" class=\"dataframe\">\n",
       "  <thead>\n",
       "    <tr style=\"text-align: right;\">\n",
       "      <th></th>\n",
       "      <th>PassengerId</th>\n",
       "      <th>Survived</th>\n",
       "      <th>Pclass</th>\n",
       "      <th>Age</th>\n",
       "      <th>SibSp</th>\n",
       "      <th>Parch</th>\n",
       "      <th>Fare</th>\n",
       "      <th>cabin_multiple</th>\n",
       "      <th>numeric_ticket</th>\n",
       "      <th>train</th>\n",
       "    </tr>\n",
       "  </thead>\n",
       "  <tbody>\n",
       "    <tr>\n",
       "      <th>count</th>\n",
       "      <td>1309.000000</td>\n",
       "      <td>891.000000</td>\n",
       "      <td>1309.000000</td>\n",
       "      <td>1046.000000</td>\n",
       "      <td>1309.000000</td>\n",
       "      <td>1309.000000</td>\n",
       "      <td>1308.000000</td>\n",
       "      <td>1309.000000</td>\n",
       "      <td>1309.000000</td>\n",
       "      <td>1309.000000</td>\n",
       "    </tr>\n",
       "    <tr>\n",
       "      <th>mean</th>\n",
       "      <td>655.000000</td>\n",
       "      <td>0.383838</td>\n",
       "      <td>2.294882</td>\n",
       "      <td>29.881138</td>\n",
       "      <td>0.498854</td>\n",
       "      <td>0.385027</td>\n",
       "      <td>33.295479</td>\n",
       "      <td>0.271963</td>\n",
       "      <td>0.731092</td>\n",
       "      <td>0.680672</td>\n",
       "    </tr>\n",
       "    <tr>\n",
       "      <th>std</th>\n",
       "      <td>378.020061</td>\n",
       "      <td>0.486592</td>\n",
       "      <td>0.837836</td>\n",
       "      <td>14.413493</td>\n",
       "      <td>1.041658</td>\n",
       "      <td>0.865560</td>\n",
       "      <td>51.758668</td>\n",
       "      <td>0.574151</td>\n",
       "      <td>0.443561</td>\n",
       "      <td>0.466394</td>\n",
       "    </tr>\n",
       "    <tr>\n",
       "      <th>min</th>\n",
       "      <td>1.000000</td>\n",
       "      <td>0.000000</td>\n",
       "      <td>1.000000</td>\n",
       "      <td>0.170000</td>\n",
       "      <td>0.000000</td>\n",
       "      <td>0.000000</td>\n",
       "      <td>0.000000</td>\n",
       "      <td>0.000000</td>\n",
       "      <td>0.000000</td>\n",
       "      <td>0.000000</td>\n",
       "    </tr>\n",
       "    <tr>\n",
       "      <th>25%</th>\n",
       "      <td>328.000000</td>\n",
       "      <td>0.000000</td>\n",
       "      <td>2.000000</td>\n",
       "      <td>21.000000</td>\n",
       "      <td>0.000000</td>\n",
       "      <td>0.000000</td>\n",
       "      <td>7.895800</td>\n",
       "      <td>0.000000</td>\n",
       "      <td>0.000000</td>\n",
       "      <td>0.000000</td>\n",
       "    </tr>\n",
       "    <tr>\n",
       "      <th>50%</th>\n",
       "      <td>655.000000</td>\n",
       "      <td>0.000000</td>\n",
       "      <td>3.000000</td>\n",
       "      <td>28.000000</td>\n",
       "      <td>0.000000</td>\n",
       "      <td>0.000000</td>\n",
       "      <td>14.454200</td>\n",
       "      <td>0.000000</td>\n",
       "      <td>1.000000</td>\n",
       "      <td>1.000000</td>\n",
       "    </tr>\n",
       "    <tr>\n",
       "      <th>75%</th>\n",
       "      <td>982.000000</td>\n",
       "      <td>1.000000</td>\n",
       "      <td>3.000000</td>\n",
       "      <td>39.000000</td>\n",
       "      <td>1.000000</td>\n",
       "      <td>0.000000</td>\n",
       "      <td>31.275000</td>\n",
       "      <td>0.000000</td>\n",
       "      <td>1.000000</td>\n",
       "      <td>1.000000</td>\n",
       "    </tr>\n",
       "    <tr>\n",
       "      <th>max</th>\n",
       "      <td>1309.000000</td>\n",
       "      <td>1.000000</td>\n",
       "      <td>3.000000</td>\n",
       "      <td>80.000000</td>\n",
       "      <td>8.000000</td>\n",
       "      <td>9.000000</td>\n",
       "      <td>512.329200</td>\n",
       "      <td>4.000000</td>\n",
       "      <td>1.000000</td>\n",
       "      <td>1.000000</td>\n",
       "    </tr>\n",
       "  </tbody>\n",
       "</table>\n",
       "</div>"
      ],
      "text/plain": [
       "       PassengerId    Survived       Pclass          Age        SibSp  \\\n",
       "count  1309.000000  891.000000  1309.000000  1046.000000  1309.000000   \n",
       "mean    655.000000    0.383838     2.294882    29.881138     0.498854   \n",
       "std     378.020061    0.486592     0.837836    14.413493     1.041658   \n",
       "min       1.000000    0.000000     1.000000     0.170000     0.000000   \n",
       "25%     328.000000    0.000000     2.000000    21.000000     0.000000   \n",
       "50%     655.000000    0.000000     3.000000    28.000000     0.000000   \n",
       "75%     982.000000    1.000000     3.000000    39.000000     1.000000   \n",
       "max    1309.000000    1.000000     3.000000    80.000000     8.000000   \n",
       "\n",
       "             Parch         Fare  cabin_multiple  numeric_ticket        train  \n",
       "count  1309.000000  1308.000000     1309.000000     1309.000000  1309.000000  \n",
       "mean      0.385027    33.295479        0.271963        0.731092     0.680672  \n",
       "std       0.865560    51.758668        0.574151        0.443561     0.466394  \n",
       "min       0.000000     0.000000        0.000000        0.000000     0.000000  \n",
       "25%       0.000000     7.895800        0.000000        0.000000     0.000000  \n",
       "50%       0.000000    14.454200        0.000000        1.000000     1.000000  \n",
       "75%       0.000000    31.275000        0.000000        1.000000     1.000000  \n",
       "max       9.000000   512.329200        4.000000        1.000000     1.000000  "
      ]
     },
     "execution_count": 41,
     "metadata": {},
     "output_type": "execute_result"
    }
   ],
   "source": [
    "all_data.describe()"
   ]
  },
  {
   "cell_type": "code",
   "execution_count": 42,
   "id": "ef871f5a",
   "metadata": {
    "execution": {
     "iopub.execute_input": "2023-01-20T12:48:00.982308Z",
     "iopub.status.busy": "2023-01-20T12:48:00.981886Z",
     "iopub.status.idle": "2023-01-20T12:48:00.990078Z",
     "shell.execute_reply": "2023-01-20T12:48:00.989028Z"
    },
    "papermill": {
     "duration": 0.03265,
     "end_time": "2023-01-20T12:48:00.992183",
     "exception": false,
     "start_time": "2023-01-20T12:48:00.959533",
     "status": "completed"
    },
    "tags": []
   },
   "outputs": [],
   "source": [
    "all_data.Age = all_data.Age.fillna(train_data.Age.median())\n",
    "all_data.Fare= all_data.Fare.fillna(train_data.Age.median())"
   ]
  },
  {
   "cell_type": "code",
   "execution_count": 43,
   "id": "ece21b64",
   "metadata": {
    "execution": {
     "iopub.execute_input": "2023-01-20T12:48:01.036625Z",
     "iopub.status.busy": "2023-01-20T12:48:01.036215Z",
     "iopub.status.idle": "2023-01-20T12:48:01.043478Z",
     "shell.execute_reply": "2023-01-20T12:48:01.042311Z"
    },
    "papermill": {
     "duration": 0.032174,
     "end_time": "2023-01-20T12:48:01.045774",
     "exception": false,
     "start_time": "2023-01-20T12:48:01.013600",
     "status": "completed"
    },
    "tags": []
   },
   "outputs": [],
   "source": [
    "all_data.dropna(subset=['Embarked'], inplace=True)"
   ]
  },
  {
   "cell_type": "code",
   "execution_count": 44,
   "id": "09e5eff3",
   "metadata": {
    "execution": {
     "iopub.execute_input": "2023-01-20T12:48:01.090675Z",
     "iopub.status.busy": "2023-01-20T12:48:01.089954Z",
     "iopub.status.idle": "2023-01-20T12:48:01.098489Z",
     "shell.execute_reply": "2023-01-20T12:48:01.097537Z"
    },
    "papermill": {
     "duration": 0.033439,
     "end_time": "2023-01-20T12:48:01.100840",
     "exception": false,
     "start_time": "2023-01-20T12:48:01.067401",
     "status": "completed"
    },
    "tags": []
   },
   "outputs": [
    {
     "data": {
      "text/plain": [
       "3    709\n",
       "1    321\n",
       "2    277\n",
       "Name: Pclass, dtype: int64"
      ]
     },
     "execution_count": 44,
     "metadata": {},
     "output_type": "execute_result"
    }
   ],
   "source": [
    "all_data['Pclass'].value_counts()"
   ]
  },
  {
   "cell_type": "code",
   "execution_count": 45,
   "id": "2298092e",
   "metadata": {
    "execution": {
     "iopub.execute_input": "2023-01-20T12:48:01.145336Z",
     "iopub.status.busy": "2023-01-20T12:48:01.144596Z",
     "iopub.status.idle": "2023-01-20T12:48:01.150930Z",
     "shell.execute_reply": "2023-01-20T12:48:01.149943Z"
    },
    "papermill": {
     "duration": 0.031112,
     "end_time": "2023-01-20T12:48:01.153290",
     "exception": false,
     "start_time": "2023-01-20T12:48:01.122178",
     "status": "completed"
    },
    "tags": []
   },
   "outputs": [],
   "source": [
    "all_data.Pclass = all_data.Pclass.astype(str)"
   ]
  },
  {
   "cell_type": "code",
   "execution_count": 46,
   "id": "1173007e",
   "metadata": {
    "execution": {
     "iopub.execute_input": "2023-01-20T12:48:01.198706Z",
     "iopub.status.busy": "2023-01-20T12:48:01.198040Z",
     "iopub.status.idle": "2023-01-20T12:48:01.225236Z",
     "shell.execute_reply": "2023-01-20T12:48:01.224026Z"
    },
    "papermill": {
     "duration": 0.0529,
     "end_time": "2023-01-20T12:48:01.227862",
     "exception": false,
     "start_time": "2023-01-20T12:48:01.174962",
     "status": "completed"
    },
    "tags": []
   },
   "outputs": [],
   "source": [
    "all_dummies= pd.get_dummies(all_data[['Pclass','Sex','Age','SibSp','Parch','Embarked','cabin_adv','cabin_multiple','numeric_ticket','name_title','train']])"
   ]
  },
  {
   "cell_type": "code",
   "execution_count": 47,
   "id": "5d281bed",
   "metadata": {
    "execution": {
     "iopub.execute_input": "2023-01-20T12:48:01.272802Z",
     "iopub.status.busy": "2023-01-20T12:48:01.272369Z",
     "iopub.status.idle": "2023-01-20T12:48:01.333574Z",
     "shell.execute_reply": "2023-01-20T12:48:01.331475Z"
    },
    "papermill": {
     "duration": 0.088122,
     "end_time": "2023-01-20T12:48:01.337133",
     "exception": false,
     "start_time": "2023-01-20T12:48:01.249011",
     "status": "completed"
    },
    "tags": []
   },
   "outputs": [
    {
     "name": "stdout",
     "output_type": "stream",
     "text": [
      "<class 'pandas.core.frame.DataFrame'>\n",
      "Int64Index: 1307 entries, 0 to 417\n",
      "Columns: 1164 entries, Age to name_title_the Countess. of (Lucy Noel Martha Dyer-Edwards)\n",
      "dtypes: float64(1), int64(5), uint8(1158)\n",
      "memory usage: 1.5 MB\n"
     ]
    }
   ],
   "source": [
    "all_dummies.info()"
   ]
  },
  {
   "cell_type": "code",
   "execution_count": 48,
   "id": "7776969a",
   "metadata": {
    "execution": {
     "iopub.execute_input": "2023-01-20T12:48:01.382548Z",
     "iopub.status.busy": "2023-01-20T12:48:01.382104Z",
     "iopub.status.idle": "2023-01-20T12:48:01.398631Z",
     "shell.execute_reply": "2023-01-20T12:48:01.397438Z"
    },
    "papermill": {
     "duration": 0.04153,
     "end_time": "2023-01-20T12:48:01.401084",
     "exception": false,
     "start_time": "2023-01-20T12:48:01.359554",
     "status": "completed"
    },
    "tags": []
   },
   "outputs": [
    {
     "data": {
      "text/plain": [
       "Age                                                            0\n",
       "SibSp                                                          0\n",
       "Parch                                                          0\n",
       "cabin_multiple                                                 0\n",
       "numeric_ticket                                                 0\n",
       "                                                              ..\n",
       "name_title_Rev. Robert James                                   0\n",
       "name_title_Rev. Thomas Roussel Davids                          0\n",
       "name_title_Rev. William                                        0\n",
       "name_title_Sir. Cosmo Edmund (\"Mr Morgan\")                     0\n",
       "name_title_the Countess. of (Lucy Noel Martha Dyer-Edwards)    0\n",
       "Length: 1164, dtype: int64"
      ]
     },
     "execution_count": 48,
     "metadata": {},
     "output_type": "execute_result"
    }
   ],
   "source": [
    "all_dummies.isna().sum()"
   ]
  },
  {
   "cell_type": "code",
   "execution_count": 49,
   "id": "59c832b9",
   "metadata": {
    "execution": {
     "iopub.execute_input": "2023-01-20T12:48:01.445990Z",
     "iopub.status.busy": "2023-01-20T12:48:01.445582Z",
     "iopub.status.idle": "2023-01-20T12:48:01.462286Z",
     "shell.execute_reply": "2023-01-20T12:48:01.461412Z"
    },
    "papermill": {
     "duration": 0.043735,
     "end_time": "2023-01-20T12:48:01.466434",
     "exception": false,
     "start_time": "2023-01-20T12:48:01.422699",
     "status": "completed"
    },
    "tags": []
   },
   "outputs": [
    {
     "data": {
      "text/plain": [
       "Age                                                            1307\n",
       "SibSp                                                          1307\n",
       "Parch                                                          1307\n",
       "cabin_multiple                                                 1307\n",
       "numeric_ticket                                                 1307\n",
       "                                                               ... \n",
       "name_title_Rev. Robert James                                   1307\n",
       "name_title_Rev. Thomas Roussel Davids                          1307\n",
       "name_title_Rev. William                                        1307\n",
       "name_title_Sir. Cosmo Edmund (\"Mr Morgan\")                     1307\n",
       "name_title_the Countess. of (Lucy Noel Martha Dyer-Edwards)    1307\n",
       "Length: 1164, dtype: int64"
      ]
     },
     "execution_count": 49,
     "metadata": {},
     "output_type": "execute_result"
    }
   ],
   "source": [
    "all_dummies.notna().sum()"
   ]
  },
  {
   "cell_type": "code",
   "execution_count": 50,
   "id": "4e351a72",
   "metadata": {
    "execution": {
     "iopub.execute_input": "2023-01-20T12:48:01.512871Z",
     "iopub.status.busy": "2023-01-20T12:48:01.512447Z",
     "iopub.status.idle": "2023-01-20T12:48:04.428376Z",
     "shell.execute_reply": "2023-01-20T12:48:04.427062Z"
    },
    "papermill": {
     "duration": 2.941837,
     "end_time": "2023-01-20T12:48:04.430962",
     "exception": false,
     "start_time": "2023-01-20T12:48:01.489125",
     "status": "completed"
    },
    "tags": []
   },
   "outputs": [
    {
     "data": {
      "text/plain": [
       "<AxesSubplot:>"
      ]
     },
     "execution_count": 50,
     "metadata": {},
     "output_type": "execute_result"
    },
    {
     "data": {
      "image/png": "[encoded data removed]",
      "text/plain": [
       "<Figure size 432x288 with 2 Axes>"
      ]
     },
     "metadata": {
      "needs_background": "light"
     },
     "output_type": "display_data"
    }
   ],
   "source": [
    "sns.heatmap(all_dummies.isnull())"
   ]
  },
  {
   "cell_type": "code",
   "execution_count": 51,
   "id": "09d6ff03",
   "metadata": {
    "execution": {
     "iopub.execute_input": "2023-01-20T12:48:04.478100Z",
     "iopub.status.busy": "2023-01-20T12:48:04.477645Z",
     "iopub.status.idle": "2023-01-20T12:48:04.498575Z",
     "shell.execute_reply": "2023-01-20T12:48:04.497574Z"
    },
    "papermill": {
     "duration": 0.047437,
     "end_time": "2023-01-20T12:48:04.501146",
     "exception": false,
     "start_time": "2023-01-20T12:48:04.453709",
     "status": "completed"
    },
    "tags": []
   },
   "outputs": [],
   "source": [
    "X_train =all_dummies[all_dummies.train==1].drop(['train'],axis=1)\n",
    "X_test =all_dummies[all_dummies.train==0].drop(['train'],axis=1)"
   ]
  },
  {
   "cell_type": "code",
   "execution_count": 52,
   "id": "ece33c2a",
   "metadata": {
    "execution": {
     "iopub.execute_input": "2023-01-20T12:48:04.548099Z",
     "iopub.status.busy": "2023-01-20T12:48:04.547367Z",
     "iopub.status.idle": "2023-01-20T12:48:04.555660Z",
     "shell.execute_reply": "2023-01-20T12:48:04.554602Z"
    },
    "papermill": {
     "duration": 0.034075,
     "end_time": "2023-01-20T12:48:04.557777",
     "exception": false,
     "start_time": "2023-01-20T12:48:04.523702",
     "status": "completed"
    },
    "tags": []
   },
   "outputs": [
    {
     "data": {
      "text/plain": [
       "(889,)"
      ]
     },
     "execution_count": 52,
     "metadata": {},
     "output_type": "execute_result"
    }
   ],
   "source": [
    "y_train=all_data[all_data.train==1].Survived\n",
    "y_train.shape"
   ]
  },
  {
   "cell_type": "code",
   "execution_count": null,
   "id": "d742a3aa",
   "metadata": {
    "papermill": {
     "duration": 0.021863,
     "end_time": "2023-01-20T12:48:04.602090",
     "exception": false,
     "start_time": "2023-01-20T12:48:04.580227",
     "status": "completed"
    },
    "tags": []
   },
   "outputs": [],
   "source": []
  },
  {
   "cell_type": "code",
   "execution_count": null,
   "id": "ee1af193",
   "metadata": {
    "papermill": {
     "duration": 0.021845,
     "end_time": "2023-01-20T12:48:04.645970",
     "exception": false,
     "start_time": "2023-01-20T12:48:04.624125",
     "status": "completed"
    },
    "tags": []
   },
   "outputs": [],
   "source": []
  },
  {
   "cell_type": "code",
   "execution_count": 53,
   "id": "ee7c05dd",
   "metadata": {
    "execution": {
     "iopub.execute_input": "2023-01-20T12:48:04.692669Z",
     "iopub.status.busy": "2023-01-20T12:48:04.692290Z",
     "iopub.status.idle": "2023-01-20T12:48:04.711025Z",
     "shell.execute_reply": "2023-01-20T12:48:04.710139Z"
    },
    "papermill": {
     "duration": 0.044936,
     "end_time": "2023-01-20T12:48:04.713134",
     "exception": false,
     "start_time": "2023-01-20T12:48:04.668198",
     "status": "completed"
    },
    "tags": []
   },
   "outputs": [
    {
     "data": {
      "text/html": [
       "<div>\n",
       "<style scoped>\n",
       "    .dataframe tbody tr th:only-of-type {\n",
       "        vertical-align: middle;\n",
       "    }\n",
       "\n",
       "    .dataframe tbody tr th {\n",
       "        vertical-align: top;\n",
       "    }\n",
       "\n",
       "    .dataframe thead th {\n",
       "        text-align: right;\n",
       "    }\n",
       "</style>\n",
       "<table border=\"1\" class=\"dataframe\">\n",
       "  <thead>\n",
       "    <tr style=\"text-align: right;\">\n",
       "      <th></th>\n",
       "      <th>PassengerId</th>\n",
       "      <th>Survived</th>\n",
       "      <th>Pclass</th>\n",
       "      <th>Name</th>\n",
       "      <th>Sex</th>\n",
       "      <th>Age</th>\n",
       "      <th>SibSp</th>\n",
       "      <th>Parch</th>\n",
       "      <th>Ticket</th>\n",
       "      <th>Fare</th>\n",
       "      <th>Cabin</th>\n",
       "      <th>Embarked</th>\n",
       "      <th>cabin_multiple</th>\n",
       "      <th>cabin_adv</th>\n",
       "      <th>numeric_ticket</th>\n",
       "      <th>name_title</th>\n",
       "      <th>train</th>\n",
       "    </tr>\n",
       "  </thead>\n",
       "  <tbody>\n",
       "    <tr>\n",
       "      <th>0</th>\n",
       "      <td>1</td>\n",
       "      <td>0</td>\n",
       "      <td>3</td>\n",
       "      <td>Braund, Mr. Owen Harris</td>\n",
       "      <td>male</td>\n",
       "      <td>22.0</td>\n",
       "      <td>1</td>\n",
       "      <td>0</td>\n",
       "      <td>A/5 21171</td>\n",
       "      <td>7.2500</td>\n",
       "      <td>NaN</td>\n",
       "      <td>S</td>\n",
       "      <td>0</td>\n",
       "      <td>n</td>\n",
       "      <td>0</td>\n",
       "      <td>Mr. Owen Harris</td>\n",
       "      <td>1</td>\n",
       "    </tr>\n",
       "    <tr>\n",
       "      <th>1</th>\n",
       "      <td>2</td>\n",
       "      <td>1</td>\n",
       "      <td>1</td>\n",
       "      <td>Cumings, Mrs. John Bradley (Florence Briggs Th...</td>\n",
       "      <td>female</td>\n",
       "      <td>38.0</td>\n",
       "      <td>1</td>\n",
       "      <td>0</td>\n",
       "      <td>PC 17599</td>\n",
       "      <td>71.2833</td>\n",
       "      <td>C85</td>\n",
       "      <td>C</td>\n",
       "      <td>1</td>\n",
       "      <td>C</td>\n",
       "      <td>0</td>\n",
       "      <td>Mrs. John Bradley (Florence Briggs Thayer)</td>\n",
       "      <td>1</td>\n",
       "    </tr>\n",
       "    <tr>\n",
       "      <th>2</th>\n",
       "      <td>3</td>\n",
       "      <td>1</td>\n",
       "      <td>3</td>\n",
       "      <td>Heikkinen, Miss. Laina</td>\n",
       "      <td>female</td>\n",
       "      <td>26.0</td>\n",
       "      <td>0</td>\n",
       "      <td>0</td>\n",
       "      <td>STON/O2. 3101282</td>\n",
       "      <td>7.9250</td>\n",
       "      <td>NaN</td>\n",
       "      <td>S</td>\n",
       "      <td>0</td>\n",
       "      <td>n</td>\n",
       "      <td>0</td>\n",
       "      <td>Miss. Laina</td>\n",
       "      <td>1</td>\n",
       "    </tr>\n",
       "    <tr>\n",
       "      <th>3</th>\n",
       "      <td>4</td>\n",
       "      <td>1</td>\n",
       "      <td>1</td>\n",
       "      <td>Futrelle, Mrs. Jacques Heath (Lily May Peel)</td>\n",
       "      <td>female</td>\n",
       "      <td>35.0</td>\n",
       "      <td>1</td>\n",
       "      <td>0</td>\n",
       "      <td>113803</td>\n",
       "      <td>53.1000</td>\n",
       "      <td>C123</td>\n",
       "      <td>S</td>\n",
       "      <td>1</td>\n",
       "      <td>C</td>\n",
       "      <td>1</td>\n",
       "      <td>Mrs. Jacques Heath (Lily May Peel)</td>\n",
       "      <td>1</td>\n",
       "    </tr>\n",
       "    <tr>\n",
       "      <th>4</th>\n",
       "      <td>5</td>\n",
       "      <td>0</td>\n",
       "      <td>3</td>\n",
       "      <td>Allen, Mr. William Henry</td>\n",
       "      <td>male</td>\n",
       "      <td>35.0</td>\n",
       "      <td>0</td>\n",
       "      <td>0</td>\n",
       "      <td>373450</td>\n",
       "      <td>8.0500</td>\n",
       "      <td>NaN</td>\n",
       "      <td>S</td>\n",
       "      <td>0</td>\n",
       "      <td>n</td>\n",
       "      <td>1</td>\n",
       "      <td>Mr. William Henry</td>\n",
       "      <td>1</td>\n",
       "    </tr>\n",
       "  </tbody>\n",
       "</table>\n",
       "</div>"
      ],
      "text/plain": [
       "   PassengerId  Survived  Pclass  \\\n",
       "0            1         0       3   \n",
       "1            2         1       1   \n",
       "2            3         1       3   \n",
       "3            4         1       1   \n",
       "4            5         0       3   \n",
       "\n",
       "                                                Name     Sex   Age  SibSp  \\\n",
       "0                            Braund, Mr. Owen Harris    male  22.0      1   \n",
       "1  Cumings, Mrs. John Bradley (Florence Briggs Th...  female  38.0      1   \n",
       "2                             Heikkinen, Miss. Laina  female  26.0      0   \n",
       "3       Futrelle, Mrs. Jacques Heath (Lily May Peel)  female  35.0      1   \n",
       "4                           Allen, Mr. William Henry    male  35.0      0   \n",
       "\n",
       "   Parch            Ticket     Fare Cabin Embarked  cabin_multiple cabin_adv  \\\n",
       "0      0         A/5 21171   7.2500   NaN        S               0         n   \n",
       "1      0          PC 17599  71.2833   C85        C               1         C   \n",
       "2      0  STON/O2. 3101282   7.9250   NaN        S               0         n   \n",
       "3      0            113803  53.1000  C123        S               1         C   \n",
       "4      0            373450   8.0500   NaN        S               0         n   \n",
       "\n",
       "   numeric_ticket                                  name_title  train  \n",
       "0               0                             Mr. Owen Harris      1  \n",
       "1               0  Mrs. John Bradley (Florence Briggs Thayer)      1  \n",
       "2               0                                 Miss. Laina      1  \n",
       "3               1          Mrs. Jacques Heath (Lily May Peel)      1  \n",
       "4               1                           Mr. William Henry      1  "
      ]
     },
     "execution_count": 53,
     "metadata": {},
     "output_type": "execute_result"
    }
   ],
   "source": [
    "train_data.head()"
   ]
  },
  {
   "cell_type": "code",
   "execution_count": 54,
   "id": "03b561df",
   "metadata": {
    "execution": {
     "iopub.execute_input": "2023-01-20T12:48:04.760564Z",
     "iopub.status.busy": "2023-01-20T12:48:04.760150Z",
     "iopub.status.idle": "2023-01-20T12:48:04.773845Z",
     "shell.execute_reply": "2023-01-20T12:48:04.772943Z"
    },
    "papermill": {
     "duration": 0.04075,
     "end_time": "2023-01-20T12:48:04.776635",
     "exception": false,
     "start_time": "2023-01-20T12:48:04.735885",
     "status": "completed"
    },
    "tags": []
   },
   "outputs": [
    {
     "name": "stdout",
     "output_type": "stream",
     "text": [
      "<class 'pandas.core.frame.DataFrame'>\n",
      "RangeIndex: 418 entries, 0 to 417\n",
      "Data columns (total 13 columns):\n",
      " #   Column       Non-Null Count  Dtype  \n",
      "---  ------       --------------  -----  \n",
      " 0   PassengerId  418 non-null    int64  \n",
      " 1   Pclass       418 non-null    int64  \n",
      " 2   Name         418 non-null    object \n",
      " 3   Sex          418 non-null    object \n",
      " 4   Age          332 non-null    float64\n",
      " 5   SibSp        418 non-null    int64  \n",
      " 6   Parch        418 non-null    int64  \n",
      " 7   Ticket       418 non-null    object \n",
      " 8   Fare         417 non-null    float64\n",
      " 9   Cabin        91 non-null     object \n",
      " 10  Embarked     418 non-null    object \n",
      " 11  train        418 non-null    int64  \n",
      " 12  Survived     0 non-null      float64\n",
      "dtypes: float64(3), int64(5), object(5)\n",
      "memory usage: 42.6+ KB\n"
     ]
    }
   ],
   "source": [
    "test_data.info()"
   ]
  },
  {
   "cell_type": "code",
   "execution_count": 55,
   "id": "c7220ab7",
   "metadata": {
    "execution": {
     "iopub.execute_input": "2023-01-20T12:48:04.827481Z",
     "iopub.status.busy": "2023-01-20T12:48:04.827008Z",
     "iopub.status.idle": "2023-01-20T12:48:04.862125Z",
     "shell.execute_reply": "2023-01-20T12:48:04.861036Z"
    },
    "papermill": {
     "duration": 0.062076,
     "end_time": "2023-01-20T12:48:04.864453",
     "exception": false,
     "start_time": "2023-01-20T12:48:04.802377",
     "status": "completed"
    },
    "tags": []
   },
   "outputs": [
    {
     "data": {
      "text/html": [
       "<div>\n",
       "<style scoped>\n",
       "    .dataframe tbody tr th:only-of-type {\n",
       "        vertical-align: middle;\n",
       "    }\n",
       "\n",
       "    .dataframe tbody tr th {\n",
       "        vertical-align: top;\n",
       "    }\n",
       "\n",
       "    .dataframe thead th {\n",
       "        text-align: right;\n",
       "    }\n",
       "</style>\n",
       "<table border=\"1\" class=\"dataframe\">\n",
       "  <thead>\n",
       "    <tr style=\"text-align: right;\">\n",
       "      <th></th>\n",
       "      <th>PassengerId</th>\n",
       "      <th>Pclass</th>\n",
       "      <th>Age</th>\n",
       "      <th>SibSp</th>\n",
       "      <th>Parch</th>\n",
       "      <th>Fare</th>\n",
       "      <th>train</th>\n",
       "      <th>Survived</th>\n",
       "    </tr>\n",
       "  </thead>\n",
       "  <tbody>\n",
       "    <tr>\n",
       "      <th>count</th>\n",
       "      <td>418.000000</td>\n",
       "      <td>418.000000</td>\n",
       "      <td>332.000000</td>\n",
       "      <td>418.000000</td>\n",
       "      <td>418.000000</td>\n",
       "      <td>417.000000</td>\n",
       "      <td>418.0</td>\n",
       "      <td>0.0</td>\n",
       "    </tr>\n",
       "    <tr>\n",
       "      <th>mean</th>\n",
       "      <td>1100.500000</td>\n",
       "      <td>2.265550</td>\n",
       "      <td>30.272590</td>\n",
       "      <td>0.447368</td>\n",
       "      <td>0.392344</td>\n",
       "      <td>35.627188</td>\n",
       "      <td>0.0</td>\n",
       "      <td>NaN</td>\n",
       "    </tr>\n",
       "    <tr>\n",
       "      <th>std</th>\n",
       "      <td>120.810458</td>\n",
       "      <td>0.841838</td>\n",
       "      <td>14.181209</td>\n",
       "      <td>0.896760</td>\n",
       "      <td>0.981429</td>\n",
       "      <td>55.907576</td>\n",
       "      <td>0.0</td>\n",
       "      <td>NaN</td>\n",
       "    </tr>\n",
       "    <tr>\n",
       "      <th>min</th>\n",
       "      <td>892.000000</td>\n",
       "      <td>1.000000</td>\n",
       "      <td>0.170000</td>\n",
       "      <td>0.000000</td>\n",
       "      <td>0.000000</td>\n",
       "      <td>0.000000</td>\n",
       "      <td>0.0</td>\n",
       "      <td>NaN</td>\n",
       "    </tr>\n",
       "    <tr>\n",
       "      <th>25%</th>\n",
       "      <td>996.250000</td>\n",
       "      <td>1.000000</td>\n",
       "      <td>21.000000</td>\n",
       "      <td>0.000000</td>\n",
       "      <td>0.000000</td>\n",
       "      <td>7.895800</td>\n",
       "      <td>0.0</td>\n",
       "      <td>NaN</td>\n",
       "    </tr>\n",
       "    <tr>\n",
       "      <th>50%</th>\n",
       "      <td>1100.500000</td>\n",
       "      <td>3.000000</td>\n",
       "      <td>27.000000</td>\n",
       "      <td>0.000000</td>\n",
       "      <td>0.000000</td>\n",
       "      <td>14.454200</td>\n",
       "      <td>0.0</td>\n",
       "      <td>NaN</td>\n",
       "    </tr>\n",
       "    <tr>\n",
       "      <th>75%</th>\n",
       "      <td>1204.750000</td>\n",
       "      <td>3.000000</td>\n",
       "      <td>39.000000</td>\n",
       "      <td>1.000000</td>\n",
       "      <td>0.000000</td>\n",
       "      <td>31.500000</td>\n",
       "      <td>0.0</td>\n",
       "      <td>NaN</td>\n",
       "    </tr>\n",
       "    <tr>\n",
       "      <th>max</th>\n",
       "      <td>1309.000000</td>\n",
       "      <td>3.000000</td>\n",
       "      <td>76.000000</td>\n",
       "      <td>8.000000</td>\n",
       "      <td>9.000000</td>\n",
       "      <td>512.329200</td>\n",
       "      <td>0.0</td>\n",
       "      <td>NaN</td>\n",
       "    </tr>\n",
       "  </tbody>\n",
       "</table>\n",
       "</div>"
      ],
      "text/plain": [
       "       PassengerId      Pclass         Age       SibSp       Parch  \\\n",
       "count   418.000000  418.000000  332.000000  418.000000  418.000000   \n",
       "mean   1100.500000    2.265550   30.272590    0.447368    0.392344   \n",
       "std     120.810458    0.841838   14.181209    0.896760    0.981429   \n",
       "min     892.000000    1.000000    0.170000    0.000000    0.000000   \n",
       "25%     996.250000    1.000000   21.000000    0.000000    0.000000   \n",
       "50%    1100.500000    3.000000   27.000000    0.000000    0.000000   \n",
       "75%    1204.750000    3.000000   39.000000    1.000000    0.000000   \n",
       "max    1309.000000    3.000000   76.000000    8.000000    9.000000   \n",
       "\n",
       "             Fare  train  Survived  \n",
       "count  417.000000  418.0       0.0  \n",
       "mean    35.627188    0.0       NaN  \n",
       "std     55.907576    0.0       NaN  \n",
       "min      0.000000    0.0       NaN  \n",
       "25%      7.895800    0.0       NaN  \n",
       "50%     14.454200    0.0       NaN  \n",
       "75%     31.500000    0.0       NaN  \n",
       "max    512.329200    0.0       NaN  "
      ]
     },
     "execution_count": 55,
     "metadata": {},
     "output_type": "execute_result"
    }
   ],
   "source": [
    "test_data.describe()"
   ]
  },
  {
   "cell_type": "code",
   "execution_count": 56,
   "id": "0548157b",
   "metadata": {
    "execution": {
     "iopub.execute_input": "2023-01-20T12:48:04.912970Z",
     "iopub.status.busy": "2023-01-20T12:48:04.912568Z",
     "iopub.status.idle": "2023-01-20T12:48:04.919641Z",
     "shell.execute_reply": "2023-01-20T12:48:04.918603Z"
    },
    "papermill": {
     "duration": 0.033905,
     "end_time": "2023-01-20T12:48:04.921752",
     "exception": false,
     "start_time": "2023-01-20T12:48:04.887847",
     "status": "completed"
    },
    "tags": []
   },
   "outputs": [
    {
     "data": {
      "text/plain": [
       "Index(['PassengerId', 'Pclass', 'Name', 'Sex', 'Age', 'SibSp', 'Parch',\n",
       "       'Ticket', 'Fare', 'Cabin', 'Embarked', 'train', 'Survived'],\n",
       "      dtype='object')"
      ]
     },
     "execution_count": 56,
     "metadata": {},
     "output_type": "execute_result"
    }
   ],
   "source": [
    "test_data.columns"
   ]
  },
  {
   "cell_type": "code",
   "execution_count": 57,
   "id": "bf0763b7",
   "metadata": {
    "execution": {
     "iopub.execute_input": "2023-01-20T12:48:04.969561Z",
     "iopub.status.busy": "2023-01-20T12:48:04.969151Z",
     "iopub.status.idle": "2023-01-20T12:48:04.994652Z",
     "shell.execute_reply": "2023-01-20T12:48:04.993675Z"
    },
    "papermill": {
     "duration": 0.051795,
     "end_time": "2023-01-20T12:48:04.996755",
     "exception": false,
     "start_time": "2023-01-20T12:48:04.944960",
     "status": "completed"
    },
    "tags": []
   },
   "outputs": [
    {
     "data": {
      "text/plain": [
       "Index(['PassengerId', 'Pclass', 'Age', 'SibSp', 'Parch', 'Fare', 'train',\n",
       "       'Survived'],\n",
       "      dtype='object')"
      ]
     },
     "execution_count": 57,
     "metadata": {},
     "output_type": "execute_result"
    }
   ],
   "source": [
    "test_data.describe().columns"
   ]
  }
 ],
 "metadata": {
  "kernelspec": {
   "display_name": "Python 3",
   "language": "python",
   "name": "python3"
  },
  "language_info": {
   "codemirror_mode": {
    "name": "ipython",
    "version": 3
   },
   "file_extension": ".py",
   "mimetype": "text/x-python",
   "name": "python",
   "nbconvert_exporter": "python",
   "pygments_lexer": "ipython3",
   "version": "3.7.12"
  },
  "papermill": {
   "default_parameters": {},
   "duration": 28.961202,
   "end_time": "2023-01-20T12:48:05.741684",
   "environment_variables": {},
   "exception": null,
   "input_path": "__notebook__.ipynb",
   "output_path": "__notebook__.ipynb",
   "parameters": {},
   "start_time": "2023-01-20T12:47:36.780482",
   "version": "2.3.4"
  }
 },
 "nbformat": 4,
 "nbformat_minor": 5
}
